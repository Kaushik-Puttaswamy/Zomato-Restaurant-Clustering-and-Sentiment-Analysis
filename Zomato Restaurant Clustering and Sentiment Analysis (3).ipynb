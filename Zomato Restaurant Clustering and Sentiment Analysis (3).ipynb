{
 "cells": [
  {
   "cell_type": "markdown",
   "id": "a647be37-03a7-4216-bec8-8aa5d4e0259d",
   "metadata": {},
   "source": [
    "***Zomato Restaurant Clustering and Sentiment Analysis***"
   ]
  },
  {
   "cell_type": "markdown",
   "id": "e167266e-990c-484b-b0eb-3d2d917d0ac2",
   "metadata": {},
   "source": [
    "# **Project Summary -**"
   ]
  },
  {
   "cell_type": "markdown",
   "id": "7b0b4c90-81bf-457e-b2bb-f4af30c6e86b",
   "metadata": {},
   "source": [
    "This project entailed the utilization of advanced data analytics techniques to gain a deeper understanding of the restaurants and customer feedback on the popular online food delivery platform, Zomato.\n",
    "\n",
    "The data procured included information such as the restaurant's name, location, cuisines, average cost for two, ratings, and user reviews.\n",
    "\n",
    "Subsequently, I embarked on the task of data cleaning and preprocessing, which involved the elimination of duplicate entries, addressing missing values, and transforming the data into a format amenable to analysis.\n",
    "\n",
    "The next step in the project was the implementation of clustering on the restaurant data through the use of the k-means algorithm. The objective of the clustering was to group similar restaurants together and discern patterns within the data. The features employed for the clustering process included the restaurant's location, cuisines, and average cost for two. The number of clusters was determined by utilizing the elbow method.\n",
    "\n",
    "I then proceeded to conduct sentiment analysis on the user reviews to gain a comprehensive understanding of the overall sentiment towards the restaurants. Certain libraries were utilized to classify the reviews as positive, negative, or neutral. Additionally, I extracted the most recurrent words utilized in the reviews and visualized them through the creation of word clouds.\n",
    "\n",
    "The outcome of the analysis revealed that the restaurants within the city were grouped into five clusters based on their location, cuisines, and average cost for two. The sentiment analysis uncovered that, generally, customers held a positive sentiment towards the restaurants.\n",
    "\n",
    "In conclusion, this project exemplifies the utility of clustering and sentiment analysis in gaining a more profound comprehension of restaurant data on Zomato. The insights procured from the analysis can be of immense benefit to both restaurants and customers in making informed decisions. Furthermore, the project can be extended to other cities or even countries to gain insight into the eating habits and preferences of individuals in different regions."
   ]
  },
  {
   "cell_type": "markdown",
   "id": "719f60bd-cb34-408f-92db-b3a4a5b5a073",
   "metadata": {},
   "source": [
    "# **Problem Statement**"
   ]
  },
  {
   "cell_type": "markdown",
   "id": "214c229d-8c24-4485-8b9b-613afce12626",
   "metadata": {},
   "source": [
    "The problem statement for this project is to analyze and understand the restaurant industry in India by utilizing data from the Indian restaurant aggregator and food delivery start-up, Zomato. The project aims to gain insights into the sentiments of customer reviews, cluster Zomato restaurants into different segments, and analyze the data to make useful conclusions in the form of visualizations. The data analyzed includes information on cuisine, costing, and customer reviews. The project aims to assist customers in finding the best restaurant in their locality and aid the company in identifying areas for growth and improvement in the industry. Additionally, the project aims to use the data for sentiment analysis and identifying critics in the industry through the metadata of reviewers."
   ]
  },
  {
   "cell_type": "markdown",
   "id": "6fdfd05a-8838-4a0d-b82d-40d547f69adc",
   "metadata": {},
   "source": [
    "## ***1. Know Your Data***"
   ]
  },
  {
   "cell_type": "code",
   "execution_count": 7,
   "id": "dcdd8234-b30f-4b9c-92f2-565db71fab9f",
   "metadata": {},
   "outputs": [
    {
     "name": "stderr",
     "output_type": "stream",
     "text": [
      "[nltk_data] Downloading package stopwords to /Users/kaush/nltk_data...\n",
      "[nltk_data]   Package stopwords is already up-to-date!\n",
      "[nltk_data] Downloading package punkt to /Users/kaush/nltk_data...\n",
      "[nltk_data]   Package punkt is already up-to-date!\n",
      "[nltk_data] Downloading package wordnet to /Users/kaush/nltk_data...\n",
      "[nltk_data]   Package wordnet is already up-to-date!\n",
      "[nltk_data] Downloading package omw-1.4 to /Users/kaush/nltk_data...\n",
      "[nltk_data]   Package omw-1.4 is already up-to-date!\n",
      "[nltk_data] Downloading package averaged_perceptron_tagger to\n",
      "[nltk_data]     /Users/kaush/nltk_data...\n",
      "[nltk_data]   Package averaged_perceptron_tagger is already up-to-\n",
      "[nltk_data]       date!\n"
     ]
    }
   ],
   "source": [
    "### Import Libraries\n",
    "import pandas as pd\n",
    "import numpy as np\n",
    "import matplotlib.pyplot as plt\n",
    "from matplotlib.colors import ListedColormap\n",
    "import matplotlib.cm as cm\n",
    "import seaborn as sns\n",
    "import math\n",
    "import time\n",
    "from wordcloud import WordCloud\n",
    "\n",
    "\n",
    "\n",
    "from scipy.stats import norm\n",
    "from scipy import stats\n",
    "from sklearn.metrics import accuracy_score, confusion_matrix, classification_report, roc_auc_score, precision_score, recall_score, f1_score \n",
    "from sklearn.linear_model import LogisticRegression\n",
    "from sklearn.model_selection import train_test_split\n",
    "from sklearn.model_selection import GridSearchCV\n",
    "from sklearn.preprocessing import MinMaxScaler, StandardScaler\n",
    "\n",
    "#importing kmeans\n",
    "from sklearn.cluster import KMeans\n",
    "\n",
    "#importing random forest and XgB\n",
    "from sklearn.ensemble import RandomForestClassifier\n",
    "from xgboost import XGBClassifier\n",
    "\n",
    "#Non-negative matrix Factorization \n",
    "from sklearn.decomposition import NMF\n",
    "\n",
    "from sklearn.naive_bayes import MultinomialNB\n",
    "\n",
    "#principal component analysis\n",
    "from sklearn.decomposition import PCA\n",
    "\n",
    "#Silhouette score\n",
    "from sklearn.metrics import silhouette_score\n",
    "from sklearn.model_selection import ParameterGrid\n",
    "\n",
    "#importing stopwords \n",
    "import nltk\n",
    "nltk.download('stopwords')\n",
    "nltk.download('punkt')\n",
    "nltk.download('wordnet')\n",
    "nltk.download('omw-1.4')\n",
    "from nltk.corpus import stopwords\n",
    "\n",
    "#for tokenization\n",
    "from nltk.tokenize import word_tokenize\n",
    "\n",
    "#for POS tagging(Part of sppech in NLP sentiment analysis)\n",
    "nltk.download('averaged_perceptron_tagger')\n",
    "\n",
    "#import stemmer\n",
    "from nltk.stem.snowball import SnowballStemmer\n",
    "\n",
    "#import tfidf\n",
    "from sklearn.feature_extraction.text import TfidfVectorizer\n",
    "\n",
    "\n"
   ]
  },
  {
   "cell_type": "code",
   "execution_count": 8,
   "id": "91f0a245-cdfa-467a-a25d-745f6f0490ad",
   "metadata": {},
   "outputs": [
    {
     "name": "stdout",
     "output_type": "stream",
     "text": [
      "Requirement already satisfied: contractions in /opt/anaconda3/lib/python3.12/site-packages (0.1.73)\n",
      "Requirement already satisfied: textsearch>=0.0.21 in /opt/anaconda3/lib/python3.12/site-packages (from contractions) (0.0.24)\n",
      "Requirement already satisfied: anyascii in /opt/anaconda3/lib/python3.12/site-packages (from textsearch>=0.0.21->contractions) (0.3.2)\n",
      "Requirement already satisfied: pyahocorasick in /opt/anaconda3/lib/python3.12/site-packages (from textsearch>=0.0.21->contractions) (2.1.0)\n",
      "Requirement already satisfied: gensim in /opt/anaconda3/lib/python3.12/site-packages (4.3.3)\n",
      "Requirement already satisfied: numpy<2.0,>=1.18.5 in /opt/anaconda3/lib/python3.12/site-packages (from gensim) (1.26.4)\n",
      "Requirement already satisfied: scipy<1.14.0,>=1.7.0 in /opt/anaconda3/lib/python3.12/site-packages (from gensim) (1.13.1)\n",
      "Requirement already satisfied: smart-open>=1.8.1 in /opt/anaconda3/lib/python3.12/site-packages (from gensim) (5.2.1)\n",
      "Requirement already satisfied: shap in /opt/anaconda3/lib/python3.12/site-packages (0.46.0)\n",
      "Requirement already satisfied: numpy in /opt/anaconda3/lib/python3.12/site-packages (from shap) (1.26.4)\n",
      "Requirement already satisfied: scipy in /opt/anaconda3/lib/python3.12/site-packages (from shap) (1.13.1)\n",
      "Requirement already satisfied: scikit-learn in /opt/anaconda3/lib/python3.12/site-packages (from shap) (1.5.1)\n",
      "Requirement already satisfied: pandas in /opt/anaconda3/lib/python3.12/site-packages (from shap) (2.2.2)\n",
      "Requirement already satisfied: tqdm>=4.27.0 in /opt/anaconda3/lib/python3.12/site-packages (from shap) (4.66.5)\n",
      "Requirement already satisfied: packaging>20.9 in /opt/anaconda3/lib/python3.12/site-packages (from shap) (24.1)\n",
      "Requirement already satisfied: slicer==0.0.8 in /opt/anaconda3/lib/python3.12/site-packages (from shap) (0.0.8)\n",
      "Requirement already satisfied: numba in /opt/anaconda3/lib/python3.12/site-packages (from shap) (0.60.0)\n",
      "Requirement already satisfied: cloudpickle in /opt/anaconda3/lib/python3.12/site-packages (from shap) (3.0.0)\n",
      "Requirement already satisfied: llvmlite<0.44,>=0.43.0dev0 in /opt/anaconda3/lib/python3.12/site-packages (from numba->shap) (0.43.0)\n",
      "Requirement already satisfied: python-dateutil>=2.8.2 in /opt/anaconda3/lib/python3.12/site-packages (from pandas->shap) (2.9.0.post0)\n",
      "Requirement already satisfied: pytz>=2020.1 in /opt/anaconda3/lib/python3.12/site-packages (from pandas->shap) (2024.1)\n",
      "Requirement already satisfied: tzdata>=2022.7 in /opt/anaconda3/lib/python3.12/site-packages (from pandas->shap) (2023.3)\n",
      "Requirement already satisfied: joblib>=1.2.0 in /opt/anaconda3/lib/python3.12/site-packages (from scikit-learn->shap) (1.4.2)\n",
      "Requirement already satisfied: threadpoolctl>=3.1.0 in /opt/anaconda3/lib/python3.12/site-packages (from scikit-learn->shap) (3.5.0)\n",
      "Requirement already satisfied: six>=1.5 in /opt/anaconda3/lib/python3.12/site-packages (from python-dateutil>=2.8.2->pandas->shap) (1.16.0)\n"
     ]
    }
   ],
   "source": [
    "#LDA\n",
    "\n",
    "from sklearn.decomposition import LatentDirichletAllocation\n",
    "\n",
    "#import contraction\n",
    "!pip install contractions\n",
    "!pip install gensim\n",
    "import gensim\n",
    "from gensim import corpora\n",
    "\n",
    "#importing shap for model expainability\n",
    "!pip install shap\n",
    "import shap\n",
    "\n",
    "#download small spacy model\n",
    "# !python -m spacy download en_core_web_sm\n",
    "# import spacy\n",
    "\n",
    "#The following lines adjust the granularity of reporting.\n",
    "pd.options.display.float_format = \"{:.2f}\".format\n",
    "\n",
    "import warnings\n",
    "warnings.filterwarnings(\"ignore\")\n",
    "%matplotlib inline"
   ]
  },
  {
   "cell_type": "markdown",
   "id": "e32d623c-d46a-455d-8431-e8094ae22438",
   "metadata": {},
   "source": [
    "## Dataset loading"
   ]
  },
  {
   "cell_type": "code",
   "execution_count": 10,
   "id": "8b24b1c2-9da4-4053-a794-372e6b1dad8b",
   "metadata": {},
   "outputs": [],
   "source": [
    "# Load dataset\n",
    "\n",
    "hotel_df = pd.read_csv(r\"/Users/kaush/Desktop/My PC/Machine Learning/Zomato Restaurant Clustering and Sentiment Analysis/Zomato Restaurant names and Metadata.csv\")\n",
    "review_df = pd.read_csv(r\"/Users/kaush/Desktop/My PC/Machine Learning/Zomato Restaurant Clustering and Sentiment Analysis/Zomato Restaurant reviews.csv\")"
   ]
  },
  {
   "cell_type": "markdown",
   "id": "70eb35ce-4435-47f6-8468-00a0413ee652",
   "metadata": {},
   "source": [
    "## Dataset First View"
   ]
  },
  {
   "cell_type": "code",
   "execution_count": 12,
   "id": "0591f486-0c75-434b-b378-1c8581095786",
   "metadata": {},
   "outputs": [
    {
     "data": {
      "text/html": [
       "<div>\n",
       "<style scoped>\n",
       "    .dataframe tbody tr th:only-of-type {\n",
       "        vertical-align: middle;\n",
       "    }\n",
       "\n",
       "    .dataframe tbody tr th {\n",
       "        vertical-align: top;\n",
       "    }\n",
       "\n",
       "    .dataframe thead th {\n",
       "        text-align: right;\n",
       "    }\n",
       "</style>\n",
       "<table border=\"1\" class=\"dataframe\">\n",
       "  <thead>\n",
       "    <tr style=\"text-align: right;\">\n",
       "      <th></th>\n",
       "      <th>Name</th>\n",
       "      <th>Links</th>\n",
       "      <th>Cost</th>\n",
       "      <th>Collections</th>\n",
       "      <th>Cuisines</th>\n",
       "      <th>Timings</th>\n",
       "    </tr>\n",
       "  </thead>\n",
       "  <tbody>\n",
       "    <tr>\n",
       "      <th>0</th>\n",
       "      <td>Beyond Flavours</td>\n",
       "      <td>https://www.zomato.com/hyderabad/beyond-flavou...</td>\n",
       "      <td>800</td>\n",
       "      <td>Food Hygiene Rated Restaurants in Hyderabad, C...</td>\n",
       "      <td>Chinese, Continental, Kebab, European, South I...</td>\n",
       "      <td>12noon to 3:30pm, 6:30pm to 11:30pm (Mon-Sun)</td>\n",
       "    </tr>\n",
       "    <tr>\n",
       "      <th>1</th>\n",
       "      <td>Paradise</td>\n",
       "      <td>https://www.zomato.com/hyderabad/paradise-gach...</td>\n",
       "      <td>800</td>\n",
       "      <td>Hyderabad's Hottest</td>\n",
       "      <td>Biryani, North Indian, Chinese</td>\n",
       "      <td>11 AM to 11 PM</td>\n",
       "    </tr>\n",
       "    <tr>\n",
       "      <th>2</th>\n",
       "      <td>Flechazo</td>\n",
       "      <td>https://www.zomato.com/hyderabad/flechazo-gach...</td>\n",
       "      <td>1,300</td>\n",
       "      <td>Great Buffets, Hyderabad's Hottest</td>\n",
       "      <td>Asian, Mediterranean, North Indian, Desserts</td>\n",
       "      <td>11:30 AM to 4:30 PM, 6:30 PM to 11 PM</td>\n",
       "    </tr>\n",
       "    <tr>\n",
       "      <th>3</th>\n",
       "      <td>Shah Ghouse Hotel &amp; Restaurant</td>\n",
       "      <td>https://www.zomato.com/hyderabad/shah-ghouse-h...</td>\n",
       "      <td>800</td>\n",
       "      <td>Late Night Restaurants</td>\n",
       "      <td>Biryani, North Indian, Chinese, Seafood, Bever...</td>\n",
       "      <td>12 Noon to 2 AM</td>\n",
       "    </tr>\n",
       "    <tr>\n",
       "      <th>4</th>\n",
       "      <td>Over The Moon Brew Company</td>\n",
       "      <td>https://www.zomato.com/hyderabad/over-the-moon...</td>\n",
       "      <td>1,200</td>\n",
       "      <td>Best Bars &amp; Pubs, Food Hygiene Rated Restauran...</td>\n",
       "      <td>Asian, Continental, North Indian, Chinese, Med...</td>\n",
       "      <td>12noon to 11pm (Mon, Tue, Wed, Thu, Sun), 12no...</td>\n",
       "    </tr>\n",
       "  </tbody>\n",
       "</table>\n",
       "</div>"
      ],
      "text/plain": [
       "                             Name  \\\n",
       "0                 Beyond Flavours   \n",
       "1                        Paradise   \n",
       "2                        Flechazo   \n",
       "3  Shah Ghouse Hotel & Restaurant   \n",
       "4      Over The Moon Brew Company   \n",
       "\n",
       "                                               Links   Cost  \\\n",
       "0  https://www.zomato.com/hyderabad/beyond-flavou...    800   \n",
       "1  https://www.zomato.com/hyderabad/paradise-gach...    800   \n",
       "2  https://www.zomato.com/hyderabad/flechazo-gach...  1,300   \n",
       "3  https://www.zomato.com/hyderabad/shah-ghouse-h...    800   \n",
       "4  https://www.zomato.com/hyderabad/over-the-moon...  1,200   \n",
       "\n",
       "                                         Collections  \\\n",
       "0  Food Hygiene Rated Restaurants in Hyderabad, C...   \n",
       "1                                Hyderabad's Hottest   \n",
       "2                 Great Buffets, Hyderabad's Hottest   \n",
       "3                             Late Night Restaurants   \n",
       "4  Best Bars & Pubs, Food Hygiene Rated Restauran...   \n",
       "\n",
       "                                            Cuisines  \\\n",
       "0  Chinese, Continental, Kebab, European, South I...   \n",
       "1                     Biryani, North Indian, Chinese   \n",
       "2       Asian, Mediterranean, North Indian, Desserts   \n",
       "3  Biryani, North Indian, Chinese, Seafood, Bever...   \n",
       "4  Asian, Continental, North Indian, Chinese, Med...   \n",
       "\n",
       "                                             Timings  \n",
       "0      12noon to 3:30pm, 6:30pm to 11:30pm (Mon-Sun)  \n",
       "1                                     11 AM to 11 PM  \n",
       "2              11:30 AM to 4:30 PM, 6:30 PM to 11 PM  \n",
       "3                                    12 Noon to 2 AM  \n",
       "4  12noon to 11pm (Mon, Tue, Wed, Thu, Sun), 12no...  "
      ]
     },
     "execution_count": 12,
     "metadata": {},
     "output_type": "execute_result"
    }
   ],
   "source": [
    "# Dataset First Look restaurant\n",
    "hotel_df.head()"
   ]
  },
  {
   "cell_type": "code",
   "execution_count": 13,
   "id": "4da51193-2b9d-4672-808a-754c80660861",
   "metadata": {},
   "outputs": [
    {
     "data": {
      "text/html": [
       "<div>\n",
       "<style scoped>\n",
       "    .dataframe tbody tr th:only-of-type {\n",
       "        vertical-align: middle;\n",
       "    }\n",
       "\n",
       "    .dataframe tbody tr th {\n",
       "        vertical-align: top;\n",
       "    }\n",
       "\n",
       "    .dataframe thead th {\n",
       "        text-align: right;\n",
       "    }\n",
       "</style>\n",
       "<table border=\"1\" class=\"dataframe\">\n",
       "  <thead>\n",
       "    <tr style=\"text-align: right;\">\n",
       "      <th></th>\n",
       "      <th>Restaurant</th>\n",
       "      <th>Reviewer</th>\n",
       "      <th>Review</th>\n",
       "      <th>Rating</th>\n",
       "      <th>Metadata</th>\n",
       "      <th>Time</th>\n",
       "      <th>Pictures</th>\n",
       "    </tr>\n",
       "  </thead>\n",
       "  <tbody>\n",
       "    <tr>\n",
       "      <th>0</th>\n",
       "      <td>Beyond Flavours</td>\n",
       "      <td>Rusha Chakraborty</td>\n",
       "      <td>The ambience was good, food was quite good . h...</td>\n",
       "      <td>5</td>\n",
       "      <td>1 Review , 2 Followers</td>\n",
       "      <td>5/25/2019 15:54</td>\n",
       "      <td>0</td>\n",
       "    </tr>\n",
       "    <tr>\n",
       "      <th>1</th>\n",
       "      <td>Beyond Flavours</td>\n",
       "      <td>Anusha Tirumalaneedi</td>\n",
       "      <td>Ambience is too good for a pleasant evening. S...</td>\n",
       "      <td>5</td>\n",
       "      <td>3 Reviews , 2 Followers</td>\n",
       "      <td>5/25/2019 14:20</td>\n",
       "      <td>0</td>\n",
       "    </tr>\n",
       "    <tr>\n",
       "      <th>2</th>\n",
       "      <td>Beyond Flavours</td>\n",
       "      <td>Ashok Shekhawat</td>\n",
       "      <td>A must try.. great food great ambience. Thnx f...</td>\n",
       "      <td>5</td>\n",
       "      <td>2 Reviews , 3 Followers</td>\n",
       "      <td>5/24/2019 22:54</td>\n",
       "      <td>0</td>\n",
       "    </tr>\n",
       "    <tr>\n",
       "      <th>3</th>\n",
       "      <td>Beyond Flavours</td>\n",
       "      <td>Swapnil Sarkar</td>\n",
       "      <td>Soumen das and Arun was a great guy. Only beca...</td>\n",
       "      <td>5</td>\n",
       "      <td>1 Review , 1 Follower</td>\n",
       "      <td>5/24/2019 22:11</td>\n",
       "      <td>0</td>\n",
       "    </tr>\n",
       "    <tr>\n",
       "      <th>4</th>\n",
       "      <td>Beyond Flavours</td>\n",
       "      <td>Dileep</td>\n",
       "      <td>Food is good.we ordered Kodi drumsticks and ba...</td>\n",
       "      <td>5</td>\n",
       "      <td>3 Reviews , 2 Followers</td>\n",
       "      <td>5/24/2019 21:37</td>\n",
       "      <td>0</td>\n",
       "    </tr>\n",
       "  </tbody>\n",
       "</table>\n",
       "</div>"
      ],
      "text/plain": [
       "        Restaurant              Reviewer  \\\n",
       "0  Beyond Flavours     Rusha Chakraborty   \n",
       "1  Beyond Flavours  Anusha Tirumalaneedi   \n",
       "2  Beyond Flavours       Ashok Shekhawat   \n",
       "3  Beyond Flavours        Swapnil Sarkar   \n",
       "4  Beyond Flavours                Dileep   \n",
       "\n",
       "                                              Review Rating  \\\n",
       "0  The ambience was good, food was quite good . h...      5   \n",
       "1  Ambience is too good for a pleasant evening. S...      5   \n",
       "2  A must try.. great food great ambience. Thnx f...      5   \n",
       "3  Soumen das and Arun was a great guy. Only beca...      5   \n",
       "4  Food is good.we ordered Kodi drumsticks and ba...      5   \n",
       "\n",
       "                  Metadata             Time  Pictures  \n",
       "0   1 Review , 2 Followers  5/25/2019 15:54         0  \n",
       "1  3 Reviews , 2 Followers  5/25/2019 14:20         0  \n",
       "2  2 Reviews , 3 Followers  5/24/2019 22:54         0  \n",
       "3    1 Review , 1 Follower  5/24/2019 22:11         0  \n",
       "4  3 Reviews , 2 Followers  5/24/2019 21:37         0  "
      ]
     },
     "execution_count": 13,
     "metadata": {},
     "output_type": "execute_result"
    }
   ],
   "source": [
    "# Dataset first look review\n",
    "\n",
    "review_df.head()"
   ]
  },
  {
   "cell_type": "markdown",
   "id": "f98004e3-ea51-4c08-9568-1bd8dbf347ab",
   "metadata": {},
   "source": [
    "## Dataset rows & columns count\n"
   ]
  },
  {
   "cell_type": "code",
   "execution_count": 15,
   "id": "828f4c20-de2b-42fb-a3a1-595ba692159c",
   "metadata": {},
   "outputs": [
    {
     "name": "stdout",
     "output_type": "stream",
     "text": [
      "Total observation and feature for restaurant: (105, 6)\n",
      "Total observation and feature for review: (10000, 7)\n"
     ]
    }
   ],
   "source": [
    "# Dataset rows(observation) & columns count (feature)\n",
    "\n",
    "print(f'Total observation and feature for restaurant: {hotel_df.shape}')\n",
    "print(f'Total observation and feature for review: {review_df.shape}')"
   ]
  },
  {
   "cell_type": "markdown",
   "id": "d7de37ef-8193-4d0e-a142-f4b999f3ee94",
   "metadata": {},
   "source": [
    "## Dataset Information\n"
   ]
  },
  {
   "cell_type": "code",
   "execution_count": 17,
   "id": "1749549c-f83d-4815-bf28-7ccce1ade1eb",
   "metadata": {},
   "outputs": [
    {
     "name": "stdout",
     "output_type": "stream",
     "text": [
      "Restaurant Info\n",
      "\n",
      "\n",
      "<class 'pandas.core.frame.DataFrame'>\n",
      "RangeIndex: 105 entries, 0 to 104\n",
      "Data columns (total 6 columns):\n",
      " #   Column       Non-Null Count  Dtype \n",
      "---  ------       --------------  ----- \n",
      " 0   Name         105 non-null    object\n",
      " 1   Links        105 non-null    object\n",
      " 2   Cost         105 non-null    object\n",
      " 3   Collections  51 non-null     object\n",
      " 4   Cuisines     105 non-null    object\n",
      " 5   Timings      104 non-null    object\n",
      "dtypes: object(6)\n",
      "memory usage: 5.1+ KB\n",
      "========================================================================================================================\n",
      "Review Info\n",
      "\n",
      "\n",
      "<class 'pandas.core.frame.DataFrame'>\n",
      "RangeIndex: 10000 entries, 0 to 9999\n",
      "Data columns (total 7 columns):\n",
      " #   Column      Non-Null Count  Dtype \n",
      "---  ------      --------------  ----- \n",
      " 0   Restaurant  10000 non-null  object\n",
      " 1   Reviewer    9962 non-null   object\n",
      " 2   Review      9955 non-null   object\n",
      " 3   Rating      9962 non-null   object\n",
      " 4   Metadata    9962 non-null   object\n",
      " 5   Time        9962 non-null   object\n",
      " 6   Pictures    10000 non-null  int64 \n",
      "dtypes: int64(1), object(6)\n",
      "memory usage: 547.0+ KB\n"
     ]
    }
   ],
   "source": [
    "# Dataset info\n",
    "\n",
    "print(\"Restaurant Info\")\n",
    "print(\"\\n\")\n",
    "hotel_df.info()\n",
    "print('='*120)\n",
    "print(\"Review Info\")\n",
    "print(\"\\n\")\n",
    "review_df.info()"
   ]
  },
  {
   "cell_type": "markdown",
   "id": "8e48c135-f617-45b4-9fe0-1fb954163cb0",
   "metadata": {},
   "source": [
    "## Duplicate Values"
   ]
  },
  {
   "cell_type": "code",
   "execution_count": 19,
   "id": "a4798026-28d2-48a3-bf55-8830f82dec86",
   "metadata": {},
   "outputs": [
    {
     "name": "stdout",
     "output_type": "stream",
     "text": [
      "For Restaurant\n",
      "\n",
      "\n",
      "Data is duplicated ? False    105\n",
      "Name: count, dtype: int64, unique value with 0 duplication\n",
      "\n",
      "\n",
      "========================================================================================================================\n",
      "\n",
      "\n",
      "For Reviews\n",
      "\n",
      "\n",
      "Data is duplicated ? False    9964\n",
      "True       36\n",
      "Name: count, dtype: int64, unique value with 0 duplication\n"
     ]
    }
   ],
   "source": [
    "# Dataset Duplicate Value Count\n",
    "print('For Restaurant')\n",
    "print('\\n')\n",
    "print(f\"Data is duplicated ? {hotel_df.duplicated().value_counts()}, unique value with {len(hotel_df[hotel_df.duplicated()])} duplication\")\n",
    "print('\\n')\n",
    "print('=' * 120)\n",
    "print('\\n')\n",
    "print('For Reviews')\n",
    "print('\\n')\n",
    "print(f\"Data is duplicated ? {review_df.duplicated().value_counts()}, unique value with {len(hotel_df[review_df.duplicated()])} duplication\")\n"
   ]
  },
  {
   "cell_type": "code",
   "execution_count": 20,
   "id": "b514ceca-3f18-464e-9a87-0caf7c986f02",
   "metadata": {},
   "outputs": [
    {
     "name": "stdout",
     "output_type": "stream",
     "text": [
      " Duplicate data count = 36\n"
     ]
    },
    {
     "data": {
      "text/html": [
       "<div>\n",
       "<style scoped>\n",
       "    .dataframe tbody tr th:only-of-type {\n",
       "        vertical-align: middle;\n",
       "    }\n",
       "\n",
       "    .dataframe tbody tr th {\n",
       "        vertical-align: top;\n",
       "    }\n",
       "\n",
       "    .dataframe thead th {\n",
       "        text-align: right;\n",
       "    }\n",
       "</style>\n",
       "<table border=\"1\" class=\"dataframe\">\n",
       "  <thead>\n",
       "    <tr style=\"text-align: right;\">\n",
       "      <th></th>\n",
       "      <th>Restaurant</th>\n",
       "      <th>Reviewer</th>\n",
       "      <th>Review</th>\n",
       "      <th>Rating</th>\n",
       "      <th>Metadata</th>\n",
       "      <th>Time</th>\n",
       "      <th>Pictures</th>\n",
       "    </tr>\n",
       "  </thead>\n",
       "  <tbody>\n",
       "    <tr>\n",
       "      <th>8778</th>\n",
       "      <td>American Wild Wings</td>\n",
       "      <td>NaN</td>\n",
       "      <td>NaN</td>\n",
       "      <td>NaN</td>\n",
       "      <td>NaN</td>\n",
       "      <td>NaN</td>\n",
       "      <td>0</td>\n",
       "    </tr>\n",
       "    <tr>\n",
       "      <th>8779</th>\n",
       "      <td>American Wild Wings</td>\n",
       "      <td>NaN</td>\n",
       "      <td>NaN</td>\n",
       "      <td>NaN</td>\n",
       "      <td>NaN</td>\n",
       "      <td>NaN</td>\n",
       "      <td>0</td>\n",
       "    </tr>\n",
       "    <tr>\n",
       "      <th>8780</th>\n",
       "      <td>American Wild Wings</td>\n",
       "      <td>NaN</td>\n",
       "      <td>NaN</td>\n",
       "      <td>NaN</td>\n",
       "      <td>NaN</td>\n",
       "      <td>NaN</td>\n",
       "      <td>0</td>\n",
       "    </tr>\n",
       "    <tr>\n",
       "      <th>8781</th>\n",
       "      <td>American Wild Wings</td>\n",
       "      <td>NaN</td>\n",
       "      <td>NaN</td>\n",
       "      <td>NaN</td>\n",
       "      <td>NaN</td>\n",
       "      <td>NaN</td>\n",
       "      <td>0</td>\n",
       "    </tr>\n",
       "    <tr>\n",
       "      <th>8782</th>\n",
       "      <td>American Wild Wings</td>\n",
       "      <td>NaN</td>\n",
       "      <td>NaN</td>\n",
       "      <td>NaN</td>\n",
       "      <td>NaN</td>\n",
       "      <td>NaN</td>\n",
       "      <td>0</td>\n",
       "    </tr>\n",
       "    <tr>\n",
       "      <th>8783</th>\n",
       "      <td>American Wild Wings</td>\n",
       "      <td>NaN</td>\n",
       "      <td>NaN</td>\n",
       "      <td>NaN</td>\n",
       "      <td>NaN</td>\n",
       "      <td>NaN</td>\n",
       "      <td>0</td>\n",
       "    </tr>\n",
       "    <tr>\n",
       "      <th>8784</th>\n",
       "      <td>American Wild Wings</td>\n",
       "      <td>NaN</td>\n",
       "      <td>NaN</td>\n",
       "      <td>NaN</td>\n",
       "      <td>NaN</td>\n",
       "      <td>NaN</td>\n",
       "      <td>0</td>\n",
       "    </tr>\n",
       "    <tr>\n",
       "      <th>8785</th>\n",
       "      <td>American Wild Wings</td>\n",
       "      <td>NaN</td>\n",
       "      <td>NaN</td>\n",
       "      <td>NaN</td>\n",
       "      <td>NaN</td>\n",
       "      <td>NaN</td>\n",
       "      <td>0</td>\n",
       "    </tr>\n",
       "    <tr>\n",
       "      <th>8786</th>\n",
       "      <td>American Wild Wings</td>\n",
       "      <td>NaN</td>\n",
       "      <td>NaN</td>\n",
       "      <td>NaN</td>\n",
       "      <td>NaN</td>\n",
       "      <td>NaN</td>\n",
       "      <td>0</td>\n",
       "    </tr>\n",
       "    <tr>\n",
       "      <th>8787</th>\n",
       "      <td>American Wild Wings</td>\n",
       "      <td>NaN</td>\n",
       "      <td>NaN</td>\n",
       "      <td>NaN</td>\n",
       "      <td>NaN</td>\n",
       "      <td>NaN</td>\n",
       "      <td>0</td>\n",
       "    </tr>\n",
       "    <tr>\n",
       "      <th>8788</th>\n",
       "      <td>American Wild Wings</td>\n",
       "      <td>NaN</td>\n",
       "      <td>NaN</td>\n",
       "      <td>NaN</td>\n",
       "      <td>NaN</td>\n",
       "      <td>NaN</td>\n",
       "      <td>0</td>\n",
       "    </tr>\n",
       "    <tr>\n",
       "      <th>8789</th>\n",
       "      <td>American Wild Wings</td>\n",
       "      <td>NaN</td>\n",
       "      <td>NaN</td>\n",
       "      <td>NaN</td>\n",
       "      <td>NaN</td>\n",
       "      <td>NaN</td>\n",
       "      <td>0</td>\n",
       "    </tr>\n",
       "    <tr>\n",
       "      <th>8790</th>\n",
       "      <td>American Wild Wings</td>\n",
       "      <td>NaN</td>\n",
       "      <td>NaN</td>\n",
       "      <td>NaN</td>\n",
       "      <td>NaN</td>\n",
       "      <td>NaN</td>\n",
       "      <td>0</td>\n",
       "    </tr>\n",
       "    <tr>\n",
       "      <th>8791</th>\n",
       "      <td>American Wild Wings</td>\n",
       "      <td>NaN</td>\n",
       "      <td>NaN</td>\n",
       "      <td>NaN</td>\n",
       "      <td>NaN</td>\n",
       "      <td>NaN</td>\n",
       "      <td>0</td>\n",
       "    </tr>\n",
       "    <tr>\n",
       "      <th>8792</th>\n",
       "      <td>American Wild Wings</td>\n",
       "      <td>NaN</td>\n",
       "      <td>NaN</td>\n",
       "      <td>NaN</td>\n",
       "      <td>NaN</td>\n",
       "      <td>NaN</td>\n",
       "      <td>0</td>\n",
       "    </tr>\n",
       "    <tr>\n",
       "      <th>8793</th>\n",
       "      <td>American Wild Wings</td>\n",
       "      <td>NaN</td>\n",
       "      <td>NaN</td>\n",
       "      <td>NaN</td>\n",
       "      <td>NaN</td>\n",
       "      <td>NaN</td>\n",
       "      <td>0</td>\n",
       "    </tr>\n",
       "    <tr>\n",
       "      <th>8794</th>\n",
       "      <td>American Wild Wings</td>\n",
       "      <td>NaN</td>\n",
       "      <td>NaN</td>\n",
       "      <td>NaN</td>\n",
       "      <td>NaN</td>\n",
       "      <td>NaN</td>\n",
       "      <td>0</td>\n",
       "    </tr>\n",
       "    <tr>\n",
       "      <th>8795</th>\n",
       "      <td>American Wild Wings</td>\n",
       "      <td>NaN</td>\n",
       "      <td>NaN</td>\n",
       "      <td>NaN</td>\n",
       "      <td>NaN</td>\n",
       "      <td>NaN</td>\n",
       "      <td>0</td>\n",
       "    </tr>\n",
       "    <tr>\n",
       "      <th>8796</th>\n",
       "      <td>American Wild Wings</td>\n",
       "      <td>NaN</td>\n",
       "      <td>NaN</td>\n",
       "      <td>NaN</td>\n",
       "      <td>NaN</td>\n",
       "      <td>NaN</td>\n",
       "      <td>0</td>\n",
       "    </tr>\n",
       "    <tr>\n",
       "      <th>8797</th>\n",
       "      <td>American Wild Wings</td>\n",
       "      <td>NaN</td>\n",
       "      <td>NaN</td>\n",
       "      <td>NaN</td>\n",
       "      <td>NaN</td>\n",
       "      <td>NaN</td>\n",
       "      <td>0</td>\n",
       "    </tr>\n",
       "    <tr>\n",
       "      <th>8798</th>\n",
       "      <td>American Wild Wings</td>\n",
       "      <td>NaN</td>\n",
       "      <td>NaN</td>\n",
       "      <td>NaN</td>\n",
       "      <td>NaN</td>\n",
       "      <td>NaN</td>\n",
       "      <td>0</td>\n",
       "    </tr>\n",
       "    <tr>\n",
       "      <th>8799</th>\n",
       "      <td>American Wild Wings</td>\n",
       "      <td>NaN</td>\n",
       "      <td>NaN</td>\n",
       "      <td>NaN</td>\n",
       "      <td>NaN</td>\n",
       "      <td>NaN</td>\n",
       "      <td>0</td>\n",
       "    </tr>\n",
       "    <tr>\n",
       "      <th>9086</th>\n",
       "      <td>Arena Eleven</td>\n",
       "      <td>NaN</td>\n",
       "      <td>NaN</td>\n",
       "      <td>NaN</td>\n",
       "      <td>NaN</td>\n",
       "      <td>NaN</td>\n",
       "      <td>0</td>\n",
       "    </tr>\n",
       "    <tr>\n",
       "      <th>9087</th>\n",
       "      <td>Arena Eleven</td>\n",
       "      <td>NaN</td>\n",
       "      <td>NaN</td>\n",
       "      <td>NaN</td>\n",
       "      <td>NaN</td>\n",
       "      <td>NaN</td>\n",
       "      <td>0</td>\n",
       "    </tr>\n",
       "    <tr>\n",
       "      <th>9088</th>\n",
       "      <td>Arena Eleven</td>\n",
       "      <td>NaN</td>\n",
       "      <td>NaN</td>\n",
       "      <td>NaN</td>\n",
       "      <td>NaN</td>\n",
       "      <td>NaN</td>\n",
       "      <td>0</td>\n",
       "    </tr>\n",
       "    <tr>\n",
       "      <th>9089</th>\n",
       "      <td>Arena Eleven</td>\n",
       "      <td>NaN</td>\n",
       "      <td>NaN</td>\n",
       "      <td>NaN</td>\n",
       "      <td>NaN</td>\n",
       "      <td>NaN</td>\n",
       "      <td>0</td>\n",
       "    </tr>\n",
       "    <tr>\n",
       "      <th>9090</th>\n",
       "      <td>Arena Eleven</td>\n",
       "      <td>NaN</td>\n",
       "      <td>NaN</td>\n",
       "      <td>NaN</td>\n",
       "      <td>NaN</td>\n",
       "      <td>NaN</td>\n",
       "      <td>0</td>\n",
       "    </tr>\n",
       "    <tr>\n",
       "      <th>9091</th>\n",
       "      <td>Arena Eleven</td>\n",
       "      <td>NaN</td>\n",
       "      <td>NaN</td>\n",
       "      <td>NaN</td>\n",
       "      <td>NaN</td>\n",
       "      <td>NaN</td>\n",
       "      <td>0</td>\n",
       "    </tr>\n",
       "    <tr>\n",
       "      <th>9092</th>\n",
       "      <td>Arena Eleven</td>\n",
       "      <td>NaN</td>\n",
       "      <td>NaN</td>\n",
       "      <td>NaN</td>\n",
       "      <td>NaN</td>\n",
       "      <td>NaN</td>\n",
       "      <td>0</td>\n",
       "    </tr>\n",
       "    <tr>\n",
       "      <th>9093</th>\n",
       "      <td>Arena Eleven</td>\n",
       "      <td>NaN</td>\n",
       "      <td>NaN</td>\n",
       "      <td>NaN</td>\n",
       "      <td>NaN</td>\n",
       "      <td>NaN</td>\n",
       "      <td>0</td>\n",
       "    </tr>\n",
       "    <tr>\n",
       "      <th>9094</th>\n",
       "      <td>Arena Eleven</td>\n",
       "      <td>NaN</td>\n",
       "      <td>NaN</td>\n",
       "      <td>NaN</td>\n",
       "      <td>NaN</td>\n",
       "      <td>NaN</td>\n",
       "      <td>0</td>\n",
       "    </tr>\n",
       "    <tr>\n",
       "      <th>9095</th>\n",
       "      <td>Arena Eleven</td>\n",
       "      <td>NaN</td>\n",
       "      <td>NaN</td>\n",
       "      <td>NaN</td>\n",
       "      <td>NaN</td>\n",
       "      <td>NaN</td>\n",
       "      <td>0</td>\n",
       "    </tr>\n",
       "    <tr>\n",
       "      <th>9096</th>\n",
       "      <td>Arena Eleven</td>\n",
       "      <td>NaN</td>\n",
       "      <td>NaN</td>\n",
       "      <td>NaN</td>\n",
       "      <td>NaN</td>\n",
       "      <td>NaN</td>\n",
       "      <td>0</td>\n",
       "    </tr>\n",
       "    <tr>\n",
       "      <th>9097</th>\n",
       "      <td>Arena Eleven</td>\n",
       "      <td>NaN</td>\n",
       "      <td>NaN</td>\n",
       "      <td>NaN</td>\n",
       "      <td>NaN</td>\n",
       "      <td>NaN</td>\n",
       "      <td>0</td>\n",
       "    </tr>\n",
       "    <tr>\n",
       "      <th>9098</th>\n",
       "      <td>Arena Eleven</td>\n",
       "      <td>NaN</td>\n",
       "      <td>NaN</td>\n",
       "      <td>NaN</td>\n",
       "      <td>NaN</td>\n",
       "      <td>NaN</td>\n",
       "      <td>0</td>\n",
       "    </tr>\n",
       "    <tr>\n",
       "      <th>9099</th>\n",
       "      <td>Arena Eleven</td>\n",
       "      <td>NaN</td>\n",
       "      <td>NaN</td>\n",
       "      <td>NaN</td>\n",
       "      <td>NaN</td>\n",
       "      <td>NaN</td>\n",
       "      <td>0</td>\n",
       "    </tr>\n",
       "  </tbody>\n",
       "</table>\n",
       "</div>"
      ],
      "text/plain": [
       "               Restaurant Reviewer Review Rating Metadata Time  Pictures\n",
       "8778  American Wild Wings      NaN    NaN    NaN      NaN  NaN         0\n",
       "8779  American Wild Wings      NaN    NaN    NaN      NaN  NaN         0\n",
       "8780  American Wild Wings      NaN    NaN    NaN      NaN  NaN         0\n",
       "8781  American Wild Wings      NaN    NaN    NaN      NaN  NaN         0\n",
       "8782  American Wild Wings      NaN    NaN    NaN      NaN  NaN         0\n",
       "8783  American Wild Wings      NaN    NaN    NaN      NaN  NaN         0\n",
       "8784  American Wild Wings      NaN    NaN    NaN      NaN  NaN         0\n",
       "8785  American Wild Wings      NaN    NaN    NaN      NaN  NaN         0\n",
       "8786  American Wild Wings      NaN    NaN    NaN      NaN  NaN         0\n",
       "8787  American Wild Wings      NaN    NaN    NaN      NaN  NaN         0\n",
       "8788  American Wild Wings      NaN    NaN    NaN      NaN  NaN         0\n",
       "8789  American Wild Wings      NaN    NaN    NaN      NaN  NaN         0\n",
       "8790  American Wild Wings      NaN    NaN    NaN      NaN  NaN         0\n",
       "8791  American Wild Wings      NaN    NaN    NaN      NaN  NaN         0\n",
       "8792  American Wild Wings      NaN    NaN    NaN      NaN  NaN         0\n",
       "8793  American Wild Wings      NaN    NaN    NaN      NaN  NaN         0\n",
       "8794  American Wild Wings      NaN    NaN    NaN      NaN  NaN         0\n",
       "8795  American Wild Wings      NaN    NaN    NaN      NaN  NaN         0\n",
       "8796  American Wild Wings      NaN    NaN    NaN      NaN  NaN         0\n",
       "8797  American Wild Wings      NaN    NaN    NaN      NaN  NaN         0\n",
       "8798  American Wild Wings      NaN    NaN    NaN      NaN  NaN         0\n",
       "8799  American Wild Wings      NaN    NaN    NaN      NaN  NaN         0\n",
       "9086         Arena Eleven      NaN    NaN    NaN      NaN  NaN         0\n",
       "9087         Arena Eleven      NaN    NaN    NaN      NaN  NaN         0\n",
       "9088         Arena Eleven      NaN    NaN    NaN      NaN  NaN         0\n",
       "9089         Arena Eleven      NaN    NaN    NaN      NaN  NaN         0\n",
       "9090         Arena Eleven      NaN    NaN    NaN      NaN  NaN         0\n",
       "9091         Arena Eleven      NaN    NaN    NaN      NaN  NaN         0\n",
       "9092         Arena Eleven      NaN    NaN    NaN      NaN  NaN         0\n",
       "9093         Arena Eleven      NaN    NaN    NaN      NaN  NaN         0\n",
       "9094         Arena Eleven      NaN    NaN    NaN      NaN  NaN         0\n",
       "9095         Arena Eleven      NaN    NaN    NaN      NaN  NaN         0\n",
       "9096         Arena Eleven      NaN    NaN    NaN      NaN  NaN         0\n",
       "9097         Arena Eleven      NaN    NaN    NaN      NaN  NaN         0\n",
       "9098         Arena Eleven      NaN    NaN    NaN      NaN  NaN         0\n",
       "9099         Arena Eleven      NaN    NaN    NaN      NaN  NaN         0"
      ]
     },
     "execution_count": 20,
     "metadata": {},
     "output_type": "execute_result"
    }
   ],
   "source": [
    "#getting duplicate values\n",
    "print(f' Duplicate data count = {review_df[review_df.duplicated()].shape[0]}')\n",
    "review_df[review_df.duplicated()]"
   ]
  },
  {
   "cell_type": "code",
   "execution_count": 21,
   "id": "241d8837-842e-42a4-b812-9ddd5ec90c37",
   "metadata": {},
   "outputs": [
    {
     "data": {
      "text/plain": [
       "(100, 7)"
      ]
     },
     "execution_count": 21,
     "metadata": {},
     "output_type": "execute_result"
    }
   ],
   "source": [
    "#checking values for american wild things\n",
    "review_df[(review_df['Restaurant'] == 'American Wild Wings')].shape"
   ]
  },
  {
   "cell_type": "code",
   "execution_count": 22,
   "id": "93124bd2-5303-4e2d-9246-3d0a30bb92f2",
   "metadata": {},
   "outputs": [
    {
     "data": {
      "text/plain": [
       "(100, 7)"
      ]
     },
     "execution_count": 22,
     "metadata": {},
     "output_type": "execute_result"
    }
   ],
   "source": [
    "#checking values for Arena Eleven\n",
    "review_df[(review_df['Restaurant'] == 'Arena Eleven')].shape"
   ]
  },
  {
   "cell_type": "markdown",
   "id": "ed329fdd-18b8-4ff0-a888-f5824ea36084",
   "metadata": {},
   "source": [
    "## Missing Values/Null Values\n"
   ]
  },
  {
   "cell_type": "code",
   "execution_count": 24,
   "id": "d652a9b8-7adc-4c86-b876-6e3c8ace4dfb",
   "metadata": {},
   "outputs": [
    {
     "data": {
      "text/plain": [
       "Name            0\n",
       "Links           0\n",
       "Cost            0\n",
       "Collections    54\n",
       "Cuisines        0\n",
       "Timings         1\n",
       "dtype: int64"
      ]
     },
     "execution_count": 24,
     "metadata": {},
     "output_type": "execute_result"
    }
   ],
   "source": [
    "# Misiing Values/Null Values Count for hotel data\n",
    "hotel_df.isnull().sum()"
   ]
  },
  {
   "cell_type": "code",
   "execution_count": 25,
   "id": "59046a21-3faf-4e4c-b839-3f38896283e8",
   "metadata": {},
   "outputs": [
    {
     "data": {
      "text/plain": [
       "Restaurant     0\n",
       "Reviewer      38\n",
       "Review        45\n",
       "Rating        38\n",
       "Metadata      38\n",
       "Time          38\n",
       "Pictures       0\n",
       "dtype: int64"
      ]
     },
     "execution_count": 25,
     "metadata": {},
     "output_type": "execute_result"
    }
   ],
   "source": [
    "# Missing Values/Null Values Count for review data\n",
    "\n",
    "review_df.isnull().sum()"
   ]
  },
  {
   "cell_type": "code",
   "execution_count": 26,
   "id": "623bc514-819b-48e4-8e41-255bc2ab43f4",
   "metadata": {},
   "outputs": [
    {
     "data": {
      "text/plain": [
       "<Axes: >"
      ]
     },
     "execution_count": 26,
     "metadata": {},
     "output_type": "execute_result"
    }
   ],
   "source": [
    "# Visualizing the missing values for restaurant\n",
    "# Checking Null Value by plotting Heatmap\n",
    "sns.heatmap(hotel_df.isnull(), cbar= False)"
   ]
  },
  {
   "cell_type": "code",
   "execution_count": 27,
   "id": "39b55a8e-9d69-4d12-95ae-da1dbfa5bb67",
   "metadata": {},
   "outputs": [],
   "source": [
    "# Visualizing the missing values for reviews \n",
    "# Checking Null Value by plotting Heatmap\n",
    "\n",
    "sns.heatmap(review_df.isnull(), cbar= False);"
   ]
  },
  {
   "cell_type": "markdown",
   "id": "05701e42-e6d3-40d1-91a7-3ecb5dee7e59",
   "metadata": {},
   "source": [
    "### What did you know about your dataset?"
   ]
  },
  {
   "cell_type": "markdown",
   "id": "52e44019-37c0-4060-91df-6d99d7bb9fa5",
   "metadata": {},
   "source": [
    "**Restaurant DataSet**\n",
    "* There are 105 total observation with 6 different features.\n",
    "* Feature like collection and timing has null values.\n",
    "* There is no duplicate values i.e., 105 unique data.\n",
    "* Feature cost represent amount but has object data type because these values are separated by comma ','.\n",
    "* Timing represent operational hour but as it is represented in the form of text has object data type.\n",
    "\n",
    "**Review DataSet**\n",
    "* There are total 10000 observation and 7 features.\n",
    "* Except picture and restaurant feature all others have null values.\n",
    "* There are total of 36 duplicate values for two restaurant - American Wild Wings and Arena Eleven, where all these duplicate values generally have null values.\n",
    "* Rating represent ordinal data, has object data type should be integer.\n",
    "* Timing represent the time when review was posted but show object data time, it should be converted into date time.\n"
   ]
  },
  {
   "cell_type": "markdown",
   "id": "768366c9-c5a7-4ceb-8e4d-9f804efaa24a",
   "metadata": {},
   "source": [
    "## ***2. Understanding Your Variables***"
   ]
  },
  {
   "cell_type": "code",
   "execution_count": 31,
   "id": "b9a6d803-039f-433c-abdb-08a74eb6c2e8",
   "metadata": {},
   "outputs": [
    {
     "name": "stdout",
     "output_type": "stream",
     "text": [
      "Features : ['Name', 'Links', 'Cost', 'Collections', 'Cuisines', 'Timings']\n"
     ]
    }
   ],
   "source": [
    "# Dataset Columns restaurant\n",
    "print(f'Features : {hotel_df.columns.to_list()}')"
   ]
  },
  {
   "cell_type": "code",
   "execution_count": 32,
   "id": "019f95cf-68e8-43c8-8004-18cd95af65a5",
   "metadata": {},
   "outputs": [
    {
     "name": "stdout",
     "output_type": "stream",
     "text": [
      "Feature : ['Restaurant', 'Reviewer', 'Review', 'Rating', 'Metadata', 'Time', 'Pictures']\n"
     ]
    }
   ],
   "source": [
    "# Dataset Columns review\n",
    "print(f'Feature : {review_df.columns.to_list()}')"
   ]
  },
  {
   "cell_type": "code",
   "execution_count": 33,
   "id": "f405e00f-e862-4672-8282-560980db097d",
   "metadata": {},
   "outputs": [
    {
     "data": {
      "text/html": [
       "<div>\n",
       "<style scoped>\n",
       "    .dataframe tbody tr th:only-of-type {\n",
       "        vertical-align: middle;\n",
       "    }\n",
       "\n",
       "    .dataframe tbody tr th {\n",
       "        vertical-align: top;\n",
       "    }\n",
       "\n",
       "    .dataframe thead th {\n",
       "        text-align: right;\n",
       "    }\n",
       "</style>\n",
       "<table border=\"1\" class=\"dataframe\">\n",
       "  <thead>\n",
       "    <tr style=\"text-align: right;\">\n",
       "      <th></th>\n",
       "      <th>count</th>\n",
       "      <th>unique</th>\n",
       "      <th>top</th>\n",
       "      <th>freq</th>\n",
       "    </tr>\n",
       "  </thead>\n",
       "  <tbody>\n",
       "    <tr>\n",
       "      <th>Name</th>\n",
       "      <td>105</td>\n",
       "      <td>105</td>\n",
       "      <td>Beyond Flavours</td>\n",
       "      <td>1</td>\n",
       "    </tr>\n",
       "    <tr>\n",
       "      <th>Links</th>\n",
       "      <td>105</td>\n",
       "      <td>105</td>\n",
       "      <td>https://www.zomato.com/hyderabad/beyond-flavou...</td>\n",
       "      <td>1</td>\n",
       "    </tr>\n",
       "    <tr>\n",
       "      <th>Cost</th>\n",
       "      <td>105</td>\n",
       "      <td>29</td>\n",
       "      <td>500</td>\n",
       "      <td>13</td>\n",
       "    </tr>\n",
       "    <tr>\n",
       "      <th>Collections</th>\n",
       "      <td>51</td>\n",
       "      <td>42</td>\n",
       "      <td>Food Hygiene Rated Restaurants in Hyderabad</td>\n",
       "      <td>4</td>\n",
       "    </tr>\n",
       "    <tr>\n",
       "      <th>Cuisines</th>\n",
       "      <td>105</td>\n",
       "      <td>92</td>\n",
       "      <td>North Indian, Chinese</td>\n",
       "      <td>4</td>\n",
       "    </tr>\n",
       "    <tr>\n",
       "      <th>Timings</th>\n",
       "      <td>104</td>\n",
       "      <td>77</td>\n",
       "      <td>11 AM to 11 PM</td>\n",
       "      <td>6</td>\n",
       "    </tr>\n",
       "  </tbody>\n",
       "</table>\n",
       "</div>"
      ],
      "text/plain": [
       "            count unique                                                top  \\\n",
       "Name          105    105                                    Beyond Flavours   \n",
       "Links         105    105  https://www.zomato.com/hyderabad/beyond-flavou...   \n",
       "Cost          105     29                                                500   \n",
       "Collections    51     42        Food Hygiene Rated Restaurants in Hyderabad   \n",
       "Cuisines      105     92                              North Indian, Chinese   \n",
       "Timings       104     77                                     11 AM to 11 PM   \n",
       "\n",
       "            freq  \n",
       "Name           1  \n",
       "Links          1  \n",
       "Cost          13  \n",
       "Collections    4  \n",
       "Cuisines       4  \n",
       "Timings        6  "
      ]
     },
     "execution_count": 33,
     "metadata": {},
     "output_type": "execute_result"
    }
   ],
   "source": [
    "# Dataset Describe restaurant\n",
    "hotel_df.describe().T"
   ]
  },
  {
   "cell_type": "code",
   "execution_count": 34,
   "id": "a356db5e-6cfc-4ec4-a56a-b4225691d7cb",
   "metadata": {},
   "outputs": [
    {
     "data": {
      "text/html": [
       "<div>\n",
       "<style scoped>\n",
       "    .dataframe tbody tr th:only-of-type {\n",
       "        vertical-align: middle;\n",
       "    }\n",
       "\n",
       "    .dataframe tbody tr th {\n",
       "        vertical-align: top;\n",
       "    }\n",
       "\n",
       "    .dataframe thead th {\n",
       "        text-align: right;\n",
       "    }\n",
       "</style>\n",
       "<table border=\"1\" class=\"dataframe\">\n",
       "  <thead>\n",
       "    <tr style=\"text-align: right;\">\n",
       "      <th></th>\n",
       "      <th>count</th>\n",
       "      <th>unique</th>\n",
       "      <th>top</th>\n",
       "      <th>freq</th>\n",
       "      <th>mean</th>\n",
       "      <th>std</th>\n",
       "      <th>min</th>\n",
       "      <th>25%</th>\n",
       "      <th>50%</th>\n",
       "      <th>75%</th>\n",
       "      <th>max</th>\n",
       "    </tr>\n",
       "  </thead>\n",
       "  <tbody>\n",
       "    <tr>\n",
       "      <th>Restaurant</th>\n",
       "      <td>10000</td>\n",
       "      <td>100</td>\n",
       "      <td>Beyond Flavours</td>\n",
       "      <td>100</td>\n",
       "      <td>NaN</td>\n",
       "      <td>NaN</td>\n",
       "      <td>NaN</td>\n",
       "      <td>NaN</td>\n",
       "      <td>NaN</td>\n",
       "      <td>NaN</td>\n",
       "      <td>NaN</td>\n",
       "    </tr>\n",
       "    <tr>\n",
       "      <th>Reviewer</th>\n",
       "      <td>9962</td>\n",
       "      <td>7446</td>\n",
       "      <td>Parijat Ray</td>\n",
       "      <td>13</td>\n",
       "      <td>NaN</td>\n",
       "      <td>NaN</td>\n",
       "      <td>NaN</td>\n",
       "      <td>NaN</td>\n",
       "      <td>NaN</td>\n",
       "      <td>NaN</td>\n",
       "      <td>NaN</td>\n",
       "    </tr>\n",
       "    <tr>\n",
       "      <th>Review</th>\n",
       "      <td>9955</td>\n",
       "      <td>9364</td>\n",
       "      <td>good</td>\n",
       "      <td>237</td>\n",
       "      <td>NaN</td>\n",
       "      <td>NaN</td>\n",
       "      <td>NaN</td>\n",
       "      <td>NaN</td>\n",
       "      <td>NaN</td>\n",
       "      <td>NaN</td>\n",
       "      <td>NaN</td>\n",
       "    </tr>\n",
       "    <tr>\n",
       "      <th>Rating</th>\n",
       "      <td>9962</td>\n",
       "      <td>10</td>\n",
       "      <td>5</td>\n",
       "      <td>3832</td>\n",
       "      <td>NaN</td>\n",
       "      <td>NaN</td>\n",
       "      <td>NaN</td>\n",
       "      <td>NaN</td>\n",
       "      <td>NaN</td>\n",
       "      <td>NaN</td>\n",
       "      <td>NaN</td>\n",
       "    </tr>\n",
       "    <tr>\n",
       "      <th>Metadata</th>\n",
       "      <td>9962</td>\n",
       "      <td>2477</td>\n",
       "      <td>1 Review</td>\n",
       "      <td>919</td>\n",
       "      <td>NaN</td>\n",
       "      <td>NaN</td>\n",
       "      <td>NaN</td>\n",
       "      <td>NaN</td>\n",
       "      <td>NaN</td>\n",
       "      <td>NaN</td>\n",
       "      <td>NaN</td>\n",
       "    </tr>\n",
       "    <tr>\n",
       "      <th>Time</th>\n",
       "      <td>9962</td>\n",
       "      <td>9782</td>\n",
       "      <td>7/29/2018 20:34</td>\n",
       "      <td>3</td>\n",
       "      <td>NaN</td>\n",
       "      <td>NaN</td>\n",
       "      <td>NaN</td>\n",
       "      <td>NaN</td>\n",
       "      <td>NaN</td>\n",
       "      <td>NaN</td>\n",
       "      <td>NaN</td>\n",
       "    </tr>\n",
       "    <tr>\n",
       "      <th>Pictures</th>\n",
       "      <td>10000.00</td>\n",
       "      <td>NaN</td>\n",
       "      <td>NaN</td>\n",
       "      <td>NaN</td>\n",
       "      <td>0.75</td>\n",
       "      <td>2.57</td>\n",
       "      <td>0.00</td>\n",
       "      <td>0.00</td>\n",
       "      <td>0.00</td>\n",
       "      <td>0.00</td>\n",
       "      <td>64.00</td>\n",
       "    </tr>\n",
       "  </tbody>\n",
       "</table>\n",
       "</div>"
      ],
      "text/plain": [
       "              count unique              top  freq mean  std  min  25%  50%  \\\n",
       "Restaurant    10000    100  Beyond Flavours   100  NaN  NaN  NaN  NaN  NaN   \n",
       "Reviewer       9962   7446      Parijat Ray    13  NaN  NaN  NaN  NaN  NaN   \n",
       "Review         9955   9364             good   237  NaN  NaN  NaN  NaN  NaN   \n",
       "Rating         9962     10                5  3832  NaN  NaN  NaN  NaN  NaN   \n",
       "Metadata       9962   2477         1 Review   919  NaN  NaN  NaN  NaN  NaN   \n",
       "Time           9962   9782  7/29/2018 20:34     3  NaN  NaN  NaN  NaN  NaN   \n",
       "Pictures   10000.00    NaN              NaN   NaN 0.75 2.57 0.00 0.00 0.00   \n",
       "\n",
       "            75%   max  \n",
       "Restaurant  NaN   NaN  \n",
       "Reviewer    NaN   NaN  \n",
       "Review      NaN   NaN  \n",
       "Rating      NaN   NaN  \n",
       "Metadata    NaN   NaN  \n",
       "Time        NaN   NaN  \n",
       "Pictures   0.00 64.00  "
      ]
     },
     "execution_count": 34,
     "metadata": {},
     "output_type": "execute_result"
    }
   ],
   "source": [
    "# Dataset Describe review\n",
    "review_df.describe(include='all').T"
   ]
  },
  {
   "cell_type": "markdown",
   "id": "664b59c4-2b45-44e8-a016-795c41aea0ad",
   "metadata": {},
   "source": [
    "## Variable Description"
   ]
  },
  {
   "cell_type": "markdown",
   "id": "3a3fc8d6-6f89-45a1-a25d-9b09fcd8c91c",
   "metadata": {},
   "source": [
    "**Attributes ▶**\n",
    "\n",
    "  ---\n",
    "**Zomato Restaurant**\n",
    "* Name : Name of Restaurants\n",
    "\n",
    "* Links : URL Links of Restaurants\n",
    "\n",
    "* Cost : Per person estimated Cost of dining\n",
    "\n",
    "* Collection : Tagging of Restaurants w.r.t. Zomato categories\n",
    "\n",
    "* Cuisines : Cuisines served by Restaurants\n",
    "\n",
    "* Timings : Restaurant Timings\n",
    "\n",
    "**Zomato Restaurant Reviews**\n",
    "* Restaurant : Name of the Restaurant\n",
    "\n",
    "* Reviewer : Name of the Reviewer\n",
    "\n",
    "* Review : Review Text\n",
    "\n",
    "* Rating : Rating Provided by Reviewer\n",
    "\n",
    "* MetaData : Reviewer Metadata - No. of Reviews and followers\n",
    "\n",
    "* Time: Date and Time of Review\n",
    "\n",
    "* Pictures : No. of pictures posted with review\n"
   ]
  },
  {
   "cell_type": "markdown",
   "id": "f32575f5-52c7-4258-9d1a-0b7fca4fe770",
   "metadata": {},
   "source": [
    "### Check Unique Values for each variable."
   ]
  },
  {
   "cell_type": "code",
   "execution_count": 38,
   "id": "300d57e2-1f5a-4508-9708-1e7680b3cfc9",
   "metadata": {},
   "outputs": [
    {
     "name": "stdout",
     "output_type": "stream",
     "text": [
      "No. of unique values in  Name is 105 .\n",
      "No. of unique values in  Links is 105 .\n",
      "No. of unique values in  Cost is 29 .\n",
      "No. of unique values in  Collections is 42 .\n",
      "No. of unique values in  Cuisines is 92 .\n",
      "No. of unique values in  Timings is 77 .\n"
     ]
    }
   ],
   "source": [
    "# Check Unique Values for each variable for restaurant\n",
    "for i in hotel_df.columns.tolist():\n",
    "    print(\"No. of unique values in \",i,\"is\", hotel_df[i].nunique(),\".\")"
   ]
  },
  {
   "cell_type": "code",
   "execution_count": 39,
   "id": "97f2523b-5569-485d-a744-a671e1284d56",
   "metadata": {},
   "outputs": [
    {
     "name": "stdout",
     "output_type": "stream",
     "text": [
      "No. of unique values in  Restaurant is 100 .\n",
      "No. of unique values in  Reviewer is 7446 .\n",
      "No. of unique values in  Review is 9364 .\n",
      "No. of unique values in  Rating is 10 .\n",
      "No. of unique values in  Metadata is 2477 .\n",
      "No. of unique values in  Time is 9782 .\n",
      "No. of unique values in  Pictures is 36 .\n"
     ]
    }
   ],
   "source": [
    "# Check Unique Values for each variable for reviews\n",
    "for i in review_df.columns.tolist():\n",
    "    print(\"No. of unique values in \",i,\"is\",review_df[i].nunique(),\".\")"
   ]
  },
  {
   "cell_type": "markdown",
   "id": "0168a4e6-2da9-4e19-87cb-22ed98bf5606",
   "metadata": {},
   "source": [
    "## 3. ***Data Wrangling***"
   ]
  },
  {
   "cell_type": "markdown",
   "id": "fb0c8a35-4afd-46c9-8b6e-ee9746c9158e",
   "metadata": {},
   "source": [
    "### Data Wrangling Code"
   ]
  },
  {
   "cell_type": "code",
   "execution_count": 42,
   "id": "d2e38779-a85d-4916-8981-d5bd1815276b",
   "metadata": {},
   "outputs": [],
   "source": [
    "#creating copy of both the data\n",
    "hotel = hotel_df.copy()\n",
    "review = review_df.copy()\n"
   ]
  },
  {
   "cell_type": "markdown",
   "id": "dab50fe7-274d-4cbb-abfd-ec13748daf57",
   "metadata": {},
   "source": [
    "####Restaurant"
   ]
  },
  {
   "cell_type": "code",
   "execution_count": 44,
   "id": "773884a3-54f6-46a6-af0c-7bc442437381",
   "metadata": {},
   "outputs": [
    {
     "data": {
      "text/plain": [
       "array(['800', '1,300', '1,200', '1,500', '500', '300', '1,000', '350',\n",
       "       '400', '1,600', '750', '550', '1,900', '450', '150', '1,400',\n",
       "       '1,100', '600', '200', '900', '700', '1,700', '2,500', '850',\n",
       "       '650', '1,800', '2,800', '1,750', '250'], dtype=object)"
      ]
     },
     "execution_count": 44,
     "metadata": {},
     "output_type": "execute_result"
    }
   ],
   "source": [
    "#before changing data type for cost checking values\n",
    "\n",
    "hotel['Cost'].unique()"
   ]
  },
  {
   "cell_type": "code",
   "execution_count": 45,
   "id": "e2860560-fbc1-4e41-b5a7-b4a40deeea8e",
   "metadata": {},
   "outputs": [],
   "source": [
    "# Write your code to make your dataset analysis ready.\n",
    "# changing the data type of the cost function\n",
    "\n",
    "hotel['Cost'] = hotel['Cost'].str.replace(\",\",\"\").astype('int64')"
   ]
  },
  {
   "cell_type": "code",
   "execution_count": 46,
   "id": "cc1feefa-e754-4e94-9601-3647b5dd75f8",
   "metadata": {},
   "outputs": [
    {
     "data": {
      "text/html": [
       "<div>\n",
       "<style scoped>\n",
       "    .dataframe tbody tr th:only-of-type {\n",
       "        vertical-align: middle;\n",
       "    }\n",
       "\n",
       "    .dataframe tbody tr th {\n",
       "        vertical-align: top;\n",
       "    }\n",
       "\n",
       "    .dataframe thead th {\n",
       "        text-align: right;\n",
       "    }\n",
       "</style>\n",
       "<table border=\"1\" class=\"dataframe\">\n",
       "  <thead>\n",
       "    <tr style=\"text-align: right;\">\n",
       "      <th></th>\n",
       "      <th>Name</th>\n",
       "      <th>Cost</th>\n",
       "    </tr>\n",
       "  </thead>\n",
       "  <tbody>\n",
       "    <tr>\n",
       "      <th>92</th>\n",
       "      <td>Collage - Hyatt Hyderabad Gachibowli</td>\n",
       "      <td>2800</td>\n",
       "    </tr>\n",
       "    <tr>\n",
       "      <th>56</th>\n",
       "      <td>Feast - Sheraton Hyderabad Hotel</td>\n",
       "      <td>2500</td>\n",
       "    </tr>\n",
       "    <tr>\n",
       "      <th>21</th>\n",
       "      <td>Jonathan's Kitchen - Holiday Inn Express &amp; Suites</td>\n",
       "      <td>1900</td>\n",
       "    </tr>\n",
       "    <tr>\n",
       "      <th>18</th>\n",
       "      <td>10 Downing Street</td>\n",
       "      <td>1900</td>\n",
       "    </tr>\n",
       "    <tr>\n",
       "      <th>91</th>\n",
       "      <td>Cascade - Radisson Hyderabad Hitec City</td>\n",
       "      <td>1800</td>\n",
       "    </tr>\n",
       "  </tbody>\n",
       "</table>\n",
       "</div>"
      ],
      "text/plain": [
       "                                                 Name  Cost\n",
       "92               Collage - Hyatt Hyderabad Gachibowli  2800\n",
       "56                   Feast - Sheraton Hyderabad Hotel  2500\n",
       "21  Jonathan's Kitchen - Holiday Inn Express & Suites  1900\n",
       "18                                  10 Downing Street  1900\n",
       "91            Cascade - Radisson Hyderabad Hitec City  1800"
      ]
     },
     "execution_count": 46,
     "metadata": {},
     "output_type": "execute_result"
    }
   ],
   "source": [
    "#top 5 costlier restaurant\n",
    "hotel.sort_values('Cost', ascending = False )[[\"Name\", \"Cost\"]][:5]"
   ]
  },
  {
   "cell_type": "code",
   "execution_count": 47,
   "id": "3f19ffe8-2d2f-4bd9-bc23-db917e4576fc",
   "metadata": {},
   "outputs": [
    {
     "data": {
      "text/html": [
       "<div>\n",
       "<style scoped>\n",
       "    .dataframe tbody tr th:only-of-type {\n",
       "        vertical-align: middle;\n",
       "    }\n",
       "\n",
       "    .dataframe tbody tr th {\n",
       "        vertical-align: top;\n",
       "    }\n",
       "\n",
       "    .dataframe thead th {\n",
       "        text-align: right;\n",
       "    }\n",
       "</style>\n",
       "<table border=\"1\" class=\"dataframe\">\n",
       "  <thead>\n",
       "    <tr style=\"text-align: right;\">\n",
       "      <th></th>\n",
       "      <th>Name</th>\n",
       "      <th>Cost</th>\n",
       "    </tr>\n",
       "  </thead>\n",
       "  <tbody>\n",
       "    <tr>\n",
       "      <th>85</th>\n",
       "      <td>Momos Delight</td>\n",
       "      <td>200</td>\n",
       "    </tr>\n",
       "    <tr>\n",
       "      <th>29</th>\n",
       "      <td>Hunger Maggi Point</td>\n",
       "      <td>200</td>\n",
       "    </tr>\n",
       "    <tr>\n",
       "      <th>101</th>\n",
       "      <td>Sweet Basket</td>\n",
       "      <td>200</td>\n",
       "    </tr>\n",
       "    <tr>\n",
       "      <th>89</th>\n",
       "      <td>Mohammedia Shawarma</td>\n",
       "      <td>150</td>\n",
       "    </tr>\n",
       "    <tr>\n",
       "      <th>23</th>\n",
       "      <td>Amul</td>\n",
       "      <td>150</td>\n",
       "    </tr>\n",
       "  </tbody>\n",
       "</table>\n",
       "</div>"
      ],
      "text/plain": [
       "                    Name  Cost\n",
       "85         Momos Delight   200\n",
       "29    Hunger Maggi Point   200\n",
       "101         Sweet Basket   200\n",
       "89   Mohammedia Shawarma   150\n",
       "23                  Amul   150"
      ]
     },
     "execution_count": 47,
     "metadata": {},
     "output_type": "execute_result"
    }
   ],
   "source": [
    "#top 5 economy restaurant\n",
    "hotel.sort_values(\"Cost\", ascending = False)[['Name', 'Cost']][-5:]"
   ]
  },
  {
   "cell_type": "code",
   "execution_count": 48,
   "id": "1befafba-20ee-416a-8297-d527dcd47097",
   "metadata": {},
   "outputs": [
    {
     "data": {
      "text/html": [
       "<div>\n",
       "<style scoped>\n",
       "    .dataframe tbody tr th:only-of-type {\n",
       "        vertical-align: middle;\n",
       "    }\n",
       "\n",
       "    .dataframe tbody tr th {\n",
       "        vertical-align: top;\n",
       "    }\n",
       "\n",
       "    .dataframe thead th {\n",
       "        text-align: right;\n",
       "    }\n",
       "</style>\n",
       "<table border=\"1\" class=\"dataframe\">\n",
       "  <thead>\n",
       "    <tr style=\"text-align: right;\">\n",
       "      <th></th>\n",
       "      <th>Cost</th>\n",
       "      <th>Name of Restaurants</th>\n",
       "      <th>Total_Restaurant</th>\n",
       "    </tr>\n",
       "  </thead>\n",
       "  <tbody>\n",
       "    <tr>\n",
       "      <th>4</th>\n",
       "      <td>500</td>\n",
       "      <td>[eat.fit, KFC, Kritunga Restaurant, Karachi Ba...</td>\n",
       "      <td>13</td>\n",
       "    </tr>\n",
       "    <tr>\n",
       "      <th>17</th>\n",
       "      <td>600</td>\n",
       "      <td>[Behrouz Biryani, Karachi Cafe, Hyderabad Chef...</td>\n",
       "      <td>10</td>\n",
       "    </tr>\n",
       "    <tr>\n",
       "      <th>20</th>\n",
       "      <td>700</td>\n",
       "      <td>[Marsala Food Company, Green Bawarchi Restaura...</td>\n",
       "      <td>8</td>\n",
       "    </tr>\n",
       "    <tr>\n",
       "      <th>2</th>\n",
       "      <td>1200</td>\n",
       "      <td>[Over The Moon Brew Company, The Glass Onion, ...</td>\n",
       "      <td>7</td>\n",
       "    </tr>\n",
       "    <tr>\n",
       "      <th>8</th>\n",
       "      <td>400</td>\n",
       "      <td>[Sardarji's Chaats &amp; More, Hotel Zara Hi-Fi, P...</td>\n",
       "      <td>6</td>\n",
       "    </tr>\n",
       "  </tbody>\n",
       "</table>\n",
       "</div>"
      ],
      "text/plain": [
       "    Cost                                Name of Restaurants  Total_Restaurant\n",
       "4    500  [eat.fit, KFC, Kritunga Restaurant, Karachi Ba...                13\n",
       "17   600  [Behrouz Biryani, Karachi Cafe, Hyderabad Chef...                10\n",
       "20   700  [Marsala Food Company, Green Bawarchi Restaura...                 8\n",
       "2   1200  [Over The Moon Brew Company, The Glass Onion, ...                 7\n",
       "8    400  [Sardarji's Chaats & More, Hotel Zara Hi-Fi, P...                 6"
      ]
     },
     "execution_count": 48,
     "metadata": {},
     "output_type": "execute_result"
    }
   ],
   "source": [
    "#hotels that share same price\n",
    "hotel_dict = {}\n",
    "amount = hotel.Cost.values.tolist() \n",
    "\n",
    "#adding hotel name based on the price by converting it into list\n",
    "for price in amount:\n",
    "    # Get all the rows that have the current price\n",
    "    rows = hotel[hotel['Cost'] == price]\n",
    "    hotel_dict[price] = rows[\"Name\"].tolist()\n",
    "\n",
    "#converting it into dataframe\n",
    "same_price_hotel_df=pd.DataFrame.from_dict([hotel_dict]).transpose().reset_index().rename(\n",
    "    columns={'index':'Cost',0:'Name of Restaurants'})\n",
    "\n",
    "#alternate methode to do the same \n",
    "#same_price_hotel_df = hotel.groupby('Cost')['Name'].apply(lambda x: x.tolist()).reset_index()\n",
    "\n",
    "#getting hotel count\n",
    "hotel_count = hotel.groupby('Cost')['Name'].count().reset_index().sort_values(\n",
    "    'Cost', ascending = False)\n",
    "\n",
    "#merging together\n",
    "same_price_hotel_df = same_price_hotel_df.merge(hotel_count, how = 'inner', \n",
    "                        on = 'Cost').rename(columns = {'Name':'Total_Restaurant'})\n",
    "\n",
    "#max hotels that share same price\n",
    "same_price_hotel_df.sort_values('Total_Restaurant', ascending = False)[:5]"
   ]
  },
  {
   "cell_type": "code",
   "execution_count": 49,
   "id": "1eee2728-60d8-443c-824a-c68698dc4331",
   "metadata": {},
   "outputs": [
    {
     "data": {
      "text/html": [
       "<div>\n",
       "<style scoped>\n",
       "    .dataframe tbody tr th:only-of-type {\n",
       "        vertical-align: middle;\n",
       "    }\n",
       "\n",
       "    .dataframe tbody tr th {\n",
       "        vertical-align: top;\n",
       "    }\n",
       "\n",
       "    .dataframe thead th {\n",
       "        text-align: right;\n",
       "    }\n",
       "</style>\n",
       "<table border=\"1\" class=\"dataframe\">\n",
       "  <thead>\n",
       "    <tr style=\"text-align: right;\">\n",
       "      <th></th>\n",
       "      <th>Cost</th>\n",
       "      <th>Name of Restaurants</th>\n",
       "      <th>Total_Restaurant</th>\n",
       "    </tr>\n",
       "  </thead>\n",
       "  <tbody>\n",
       "    <tr>\n",
       "      <th>26</th>\n",
       "      <td>2800</td>\n",
       "      <td>[Collage - Hyatt Hyderabad Gachibowli]</td>\n",
       "      <td>1</td>\n",
       "    </tr>\n",
       "    <tr>\n",
       "      <th>22</th>\n",
       "      <td>2500</td>\n",
       "      <td>[Feast - Sheraton Hyderabad Hotel]</td>\n",
       "      <td>1</td>\n",
       "    </tr>\n",
       "    <tr>\n",
       "      <th>12</th>\n",
       "      <td>1900</td>\n",
       "      <td>[10 Downing Street, Jonathan's Kitchen - Holid...</td>\n",
       "      <td>2</td>\n",
       "    </tr>\n",
       "    <tr>\n",
       "      <th>25</th>\n",
       "      <td>1800</td>\n",
       "      <td>[Cascade - Radisson Hyderabad Hitec City]</td>\n",
       "      <td>1</td>\n",
       "    </tr>\n",
       "    <tr>\n",
       "      <th>27</th>\n",
       "      <td>1750</td>\n",
       "      <td>[Zega - Sheraton Hyderabad Hotel]</td>\n",
       "      <td>1</td>\n",
       "    </tr>\n",
       "  </tbody>\n",
       "</table>\n",
       "</div>"
      ],
      "text/plain": [
       "    Cost                                Name of Restaurants  Total_Restaurant\n",
       "26  2800             [Collage - Hyatt Hyderabad Gachibowli]                 1\n",
       "22  2500                 [Feast - Sheraton Hyderabad Hotel]                 1\n",
       "12  1900  [10 Downing Street, Jonathan's Kitchen - Holid...                 2\n",
       "25  1800          [Cascade - Radisson Hyderabad Hitec City]                 1\n",
       "27  1750                  [Zega - Sheraton Hyderabad Hotel]                 1"
      ]
     },
     "execution_count": 49,
     "metadata": {},
     "output_type": "execute_result"
    }
   ],
   "source": [
    "#Hotels which has max price\n",
    "same_price_hotel_df.sort_values('Cost', ascending = False)[:5]"
   ]
  },
  {
   "cell_type": "code",
   "execution_count": 50,
   "id": "904446e7-125e-4308-9f2e-0cdd733b3fe2",
   "metadata": {},
   "outputs": [],
   "source": [
    "# spliting the cusines and storing in list \n",
    "cuisine_value_list = hotel.Cuisines.str.split(', ')"
   ]
  },
  {
   "cell_type": "code",
   "execution_count": 51,
   "id": "ac0b5d7d-20b6-4305-9740-bccec26d3b97",
   "metadata": {},
   "outputs": [],
   "source": [
    "# storing all the cusines in a dict \n",
    "cuisine_dict = {}\n",
    "for cuisine_names in cuisine_value_list:\n",
    "    for cuisine in cuisine_names:\n",
    "        if (cuisine in cuisine_dict):\n",
    "            cuisine_dict[cuisine]+=1\n",
    "        else:  \n",
    "            cuisine_dict[cuisine]=1 "
   ]
  },
  {
   "cell_type": "code",
   "execution_count": 52,
   "id": "ae064a8f-3ab6-43a1-a141-47fd8d2322a7",
   "metadata": {},
   "outputs": [],
   "source": [
    "# converting the dict to a data frame \n",
    "cuisine_df=pd.DataFrame.from_dict([cuisine_dict]).transpose().reset_index().rename(\n",
    "    columns={'index':'Cuisine',0:'Number of Restaurants'})"
   ]
  },
  {
   "cell_type": "code",
   "execution_count": 53,
   "id": "f51b5345-955b-4289-8d66-a45438f85dbc",
   "metadata": {},
   "outputs": [
    {
     "data": {
      "text/html": [
       "<div>\n",
       "<style scoped>\n",
       "    .dataframe tbody tr th:only-of-type {\n",
       "        vertical-align: middle;\n",
       "    }\n",
       "\n",
       "    .dataframe tbody tr th {\n",
       "        vertical-align: top;\n",
       "    }\n",
       "\n",
       "    .dataframe thead th {\n",
       "        text-align: right;\n",
       "    }\n",
       "</style>\n",
       "<table border=\"1\" class=\"dataframe\">\n",
       "  <thead>\n",
       "    <tr style=\"text-align: right;\">\n",
       "      <th></th>\n",
       "      <th>Cuisine</th>\n",
       "      <th>Number of Restaurants</th>\n",
       "    </tr>\n",
       "  </thead>\n",
       "  <tbody>\n",
       "    <tr>\n",
       "      <th>5</th>\n",
       "      <td>North Indian</td>\n",
       "      <td>61</td>\n",
       "    </tr>\n",
       "    <tr>\n",
       "      <th>0</th>\n",
       "      <td>Chinese</td>\n",
       "      <td>43</td>\n",
       "    </tr>\n",
       "    <tr>\n",
       "      <th>1</th>\n",
       "      <td>Continental</td>\n",
       "      <td>21</td>\n",
       "    </tr>\n",
       "    <tr>\n",
       "      <th>6</th>\n",
       "      <td>Biryani</td>\n",
       "      <td>16</td>\n",
       "    </tr>\n",
       "    <tr>\n",
       "      <th>18</th>\n",
       "      <td>Fast Food</td>\n",
       "      <td>15</td>\n",
       "    </tr>\n",
       "  </tbody>\n",
       "</table>\n",
       "</div>"
      ],
      "text/plain": [
       "         Cuisine  Number of Restaurants\n",
       "5   North Indian                     61\n",
       "0        Chinese                     43\n",
       "1    Continental                     21\n",
       "6        Biryani                     16\n",
       "18     Fast Food                     15"
      ]
     },
     "execution_count": 53,
     "metadata": {},
     "output_type": "execute_result"
    }
   ],
   "source": [
    "#top 5 cuisine\n",
    "cuisine_df.sort_values('Number of Restaurants', ascending =False)[:5]"
   ]
  },
  {
   "cell_type": "code",
   "execution_count": 54,
   "id": "1c75c858-5025-4344-8cf7-9b9b05b8fbb6",
   "metadata": {},
   "outputs": [],
   "source": [
    "# spliting the cusines and storing in list \n",
    "Collections_value_list = hotel.Collections.dropna().str.split(',')"
   ]
  },
  {
   "cell_type": "code",
   "execution_count": 55,
   "id": "36e8ae3a-62ab-4eef-859a-400dd3d2dfbe",
   "metadata": {},
   "outputs": [],
   "source": [
    "# storing all the cusines in a dict \n",
    "Collections_dict = {}\n",
    "for collection in Collections_value_list:\n",
    "    for col_name in collection:\n",
    "        if (col_name in Collections_dict):\n",
    "            Collections_dict[col_name]+=1\n",
    "        else:  \n",
    "            Collections_dict[col_name]=1 "
   ]
  },
  {
   "cell_type": "code",
   "execution_count": 56,
   "id": "600fc57a-a071-444b-9ab9-fc454f84ce10",
   "metadata": {},
   "outputs": [],
   "source": [
    "# converting the dict to a data frame\n",
    "Collections_df = pd.DataFrame.from_dict([Collections_dict]).transpose().reset_index().rename(columns={'index':'Tags',0:'Number of Restaurants'})"
   ]
  },
  {
   "cell_type": "code",
   "execution_count": 57,
   "id": "ed0982d3-66f0-4ab8-abcd-ac360d3179ab",
   "metadata": {},
   "outputs": [
    {
     "data": {
      "text/html": [
       "<div>\n",
       "<style scoped>\n",
       "    .dataframe tbody tr th:only-of-type {\n",
       "        vertical-align: middle;\n",
       "    }\n",
       "\n",
       "    .dataframe tbody tr th {\n",
       "        vertical-align: top;\n",
       "    }\n",
       "\n",
       "    .dataframe thead th {\n",
       "        text-align: right;\n",
       "    }\n",
       "</style>\n",
       "<table border=\"1\" class=\"dataframe\">\n",
       "  <thead>\n",
       "    <tr style=\"text-align: right;\">\n",
       "      <th></th>\n",
       "      <th>Tags</th>\n",
       "      <th>Number of Restaurants</th>\n",
       "    </tr>\n",
       "  </thead>\n",
       "  <tbody>\n",
       "    <tr>\n",
       "      <th>0</th>\n",
       "      <td>Food Hygiene Rated Restaurants in Hyderabad</td>\n",
       "      <td>6</td>\n",
       "    </tr>\n",
       "    <tr>\n",
       "      <th>5</th>\n",
       "      <td>Live Sports Screenings</td>\n",
       "      <td>6</td>\n",
       "    </tr>\n",
       "    <tr>\n",
       "      <th>7</th>\n",
       "      <td>Great Buffets</td>\n",
       "      <td>6</td>\n",
       "    </tr>\n",
       "    <tr>\n",
       "      <th>1</th>\n",
       "      <td>Corporate Favorites</td>\n",
       "      <td>5</td>\n",
       "    </tr>\n",
       "    <tr>\n",
       "      <th>8</th>\n",
       "      <td>Hyderabad's Hottest</td>\n",
       "      <td>5</td>\n",
       "    </tr>\n",
       "  </tbody>\n",
       "</table>\n",
       "</div>"
      ],
      "text/plain": [
       "                                          Tags  Number of Restaurants\n",
       "0  Food Hygiene Rated Restaurants in Hyderabad                      6\n",
       "5                       Live Sports Screenings                      6\n",
       "7                                Great Buffets                      6\n",
       "1                          Corporate Favorites                      5\n",
       "8                          Hyderabad's Hottest                      5"
      ]
     },
     "execution_count": 57,
     "metadata": {},
     "output_type": "execute_result"
    }
   ],
   "source": [
    "#top 5 collection\n",
    "Collections_df.sort_values('Number of Restaurants', ascending = False)[:5]"
   ]
  },
  {
   "cell_type": "markdown",
   "id": "4fa33d85-62a9-41e5-b4a9-7149eaaa9ba7",
   "metadata": {},
   "source": [
    "####Reviews"
   ]
  },
  {
   "cell_type": "code",
   "execution_count": 59,
   "id": "a43c45a0-4c2e-4919-be0c-47b78723c1ab",
   "metadata": {},
   "outputs": [
    {
     "data": {
      "text/plain": [
       "Rating\n",
       "5       3832\n",
       "4       2373\n",
       "1       1735\n",
       "3       1193\n",
       "2        684\n",
       "4.5       69\n",
       "3.5       47\n",
       "2.5       19\n",
       "1.5        9\n",
       "Like       1\n",
       "Name: count, dtype: int64"
      ]
     },
     "execution_count": 59,
     "metadata": {},
     "output_type": "execute_result"
    }
   ],
   "source": [
    "#in order to change data type for rating checking values\n",
    "review.Rating.value_counts()"
   ]
  },
  {
   "cell_type": "code",
   "execution_count": 60,
   "id": "cd280561-e1d8-4642-984b-9472f1d93ad4",
   "metadata": {},
   "outputs": [],
   "source": [
    "#changing data type for each rating since had value as interger surrounded by inverted comma\n",
    "#since there is one rating as like converting it to 0 since no rating is 0 then to median\n",
    "review.loc[review['Rating'] == 'Like'] = 0\n",
    "\n",
    "#changing data type for rating in review data\n",
    "review['Rating'] = review['Rating'].astype('float')"
   ]
  },
  {
   "cell_type": "code",
   "execution_count": 61,
   "id": "bf2bb56b-0346-4c4f-ac3a-d3c40b791bd9",
   "metadata": {},
   "outputs": [],
   "source": [
    "#since there is one rating as like converting it to median\n",
    "review.loc[review['Rating']==0] = review.Rating.median()"
   ]
  },
  {
   "cell_type": "raw",
   "id": "c66bbee0-7961-43dd-a584-326f9066df8d",
   "metadata": {},
   "source": [
    "review"
   ]
  },
  {
   "cell_type": "code",
   "execution_count": 62,
   "id": "f3805663-6b35-488e-a82a-9727696f7b56",
   "metadata": {},
   "outputs": [],
   "source": [
    "review['Reviewer_Total_Review']=review['Metadata'].str.split(',',expand=True)[0]\n",
    "review['Reviewer_Followers']=review['Metadata'].str.split(',', expand=True)[1]\n",
    "\n",
    "review['Reviewer_Total_Review'] = pd.to_numeric(review['Reviewer_Total_Review'].str.split(' ',expand=True)[0])\n",
    "review['Reviewer_Followers'] = pd.to_numeric(review['Reviewer_Followers'].str.split(' ').str[1])"
   ]
  },
  {
   "cell_type": "code",
   "execution_count": 63,
   "id": "7bc55dea-71ea-4d0e-a8a6-a2e8097efb95",
   "metadata": {},
   "outputs": [
    {
     "data": {
      "text/html": [
       "<div>\n",
       "<style scoped>\n",
       "    .dataframe tbody tr th:only-of-type {\n",
       "        vertical-align: middle;\n",
       "    }\n",
       "\n",
       "    .dataframe tbody tr th {\n",
       "        vertical-align: top;\n",
       "    }\n",
       "\n",
       "    .dataframe thead th {\n",
       "        text-align: right;\n",
       "    }\n",
       "</style>\n",
       "<table border=\"1\" class=\"dataframe\">\n",
       "  <thead>\n",
       "    <tr style=\"text-align: right;\">\n",
       "      <th></th>\n",
       "      <th>Restaurant</th>\n",
       "      <th>Reviewer</th>\n",
       "      <th>Review</th>\n",
       "      <th>Rating</th>\n",
       "      <th>Metadata</th>\n",
       "      <th>Time</th>\n",
       "      <th>Pictures</th>\n",
       "      <th>Reviewer_Total_Review</th>\n",
       "      <th>Reviewer_Followers</th>\n",
       "    </tr>\n",
       "  </thead>\n",
       "  <tbody>\n",
       "    <tr>\n",
       "      <th>0</th>\n",
       "      <td>Beyond Flavours</td>\n",
       "      <td>Rusha Chakraborty</td>\n",
       "      <td>The ambience was good, food was quite good . h...</td>\n",
       "      <td>5.00</td>\n",
       "      <td>1 Review , 2 Followers</td>\n",
       "      <td>5/25/2019 15:54</td>\n",
       "      <td>0</td>\n",
       "      <td>1.00</td>\n",
       "      <td>2.00</td>\n",
       "    </tr>\n",
       "    <tr>\n",
       "      <th>1</th>\n",
       "      <td>Beyond Flavours</td>\n",
       "      <td>Anusha Tirumalaneedi</td>\n",
       "      <td>Ambience is too good for a pleasant evening. S...</td>\n",
       "      <td>5.00</td>\n",
       "      <td>3 Reviews , 2 Followers</td>\n",
       "      <td>5/25/2019 14:20</td>\n",
       "      <td>0</td>\n",
       "      <td>3.00</td>\n",
       "      <td>2.00</td>\n",
       "    </tr>\n",
       "    <tr>\n",
       "      <th>2</th>\n",
       "      <td>Beyond Flavours</td>\n",
       "      <td>Ashok Shekhawat</td>\n",
       "      <td>A must try.. great food great ambience. Thnx f...</td>\n",
       "      <td>5.00</td>\n",
       "      <td>2 Reviews , 3 Followers</td>\n",
       "      <td>5/24/2019 22:54</td>\n",
       "      <td>0</td>\n",
       "      <td>2.00</td>\n",
       "      <td>3.00</td>\n",
       "    </tr>\n",
       "    <tr>\n",
       "      <th>3</th>\n",
       "      <td>Beyond Flavours</td>\n",
       "      <td>Swapnil Sarkar</td>\n",
       "      <td>Soumen das and Arun was a great guy. Only beca...</td>\n",
       "      <td>5.00</td>\n",
       "      <td>1 Review , 1 Follower</td>\n",
       "      <td>5/24/2019 22:11</td>\n",
       "      <td>0</td>\n",
       "      <td>1.00</td>\n",
       "      <td>1.00</td>\n",
       "    </tr>\n",
       "    <tr>\n",
       "      <th>4</th>\n",
       "      <td>Beyond Flavours</td>\n",
       "      <td>Dileep</td>\n",
       "      <td>Food is good.we ordered Kodi drumsticks and ba...</td>\n",
       "      <td>5.00</td>\n",
       "      <td>3 Reviews , 2 Followers</td>\n",
       "      <td>5/24/2019 21:37</td>\n",
       "      <td>0</td>\n",
       "      <td>3.00</td>\n",
       "      <td>2.00</td>\n",
       "    </tr>\n",
       "    <tr>\n",
       "      <th>...</th>\n",
       "      <td>...</td>\n",
       "      <td>...</td>\n",
       "      <td>...</td>\n",
       "      <td>...</td>\n",
       "      <td>...</td>\n",
       "      <td>...</td>\n",
       "      <td>...</td>\n",
       "      <td>...</td>\n",
       "      <td>...</td>\n",
       "    </tr>\n",
       "    <tr>\n",
       "      <th>9995</th>\n",
       "      <td>Chinese Pavilion</td>\n",
       "      <td>Abhishek Mahajan</td>\n",
       "      <td>Madhumathi Mahajan Well to start with nice cou...</td>\n",
       "      <td>3.00</td>\n",
       "      <td>53 Reviews , 54 Followers</td>\n",
       "      <td>6/5/2016 0:08</td>\n",
       "      <td>0</td>\n",
       "      <td>53.00</td>\n",
       "      <td>54.00</td>\n",
       "    </tr>\n",
       "    <tr>\n",
       "      <th>9996</th>\n",
       "      <td>Chinese Pavilion</td>\n",
       "      <td>Sharad Agrawal</td>\n",
       "      <td>This place has never disappointed us.. The foo...</td>\n",
       "      <td>4.50</td>\n",
       "      <td>2 Reviews , 53 Followers</td>\n",
       "      <td>6/4/2016 22:01</td>\n",
       "      <td>0</td>\n",
       "      <td>2.00</td>\n",
       "      <td>53.00</td>\n",
       "    </tr>\n",
       "    <tr>\n",
       "      <th>9997</th>\n",
       "      <td>Chinese Pavilion</td>\n",
       "      <td>Ramandeep</td>\n",
       "      <td>Bad rating is mainly because of \"Chicken Bone ...</td>\n",
       "      <td>1.50</td>\n",
       "      <td>65 Reviews , 423 Followers</td>\n",
       "      <td>6/3/2016 10:37</td>\n",
       "      <td>3</td>\n",
       "      <td>65.00</td>\n",
       "      <td>423.00</td>\n",
       "    </tr>\n",
       "    <tr>\n",
       "      <th>9998</th>\n",
       "      <td>Chinese Pavilion</td>\n",
       "      <td>Nayana Shanbhag</td>\n",
       "      <td>I personally love and prefer Chinese Food. Had...</td>\n",
       "      <td>4.00</td>\n",
       "      <td>13 Reviews , 144 Followers</td>\n",
       "      <td>5/31/2016 17:22</td>\n",
       "      <td>0</td>\n",
       "      <td>13.00</td>\n",
       "      <td>144.00</td>\n",
       "    </tr>\n",
       "    <tr>\n",
       "      <th>9999</th>\n",
       "      <td>Chinese Pavilion</td>\n",
       "      <td>Bhargava Krishna</td>\n",
       "      <td>Checked in here to try some delicious chinese ...</td>\n",
       "      <td>3.50</td>\n",
       "      <td>472 Reviews , 1302 Followers</td>\n",
       "      <td>5/31/2016 16:41</td>\n",
       "      <td>6</td>\n",
       "      <td>472.00</td>\n",
       "      <td>1302.00</td>\n",
       "    </tr>\n",
       "  </tbody>\n",
       "</table>\n",
       "<p>10000 rows × 9 columns</p>\n",
       "</div>"
      ],
      "text/plain": [
       "            Restaurant              Reviewer  \\\n",
       "0      Beyond Flavours     Rusha Chakraborty   \n",
       "1      Beyond Flavours  Anusha Tirumalaneedi   \n",
       "2      Beyond Flavours       Ashok Shekhawat   \n",
       "3      Beyond Flavours        Swapnil Sarkar   \n",
       "4      Beyond Flavours                Dileep   \n",
       "...                ...                   ...   \n",
       "9995  Chinese Pavilion      Abhishek Mahajan   \n",
       "9996  Chinese Pavilion        Sharad Agrawal   \n",
       "9997  Chinese Pavilion             Ramandeep   \n",
       "9998  Chinese Pavilion       Nayana Shanbhag   \n",
       "9999  Chinese Pavilion      Bhargava Krishna   \n",
       "\n",
       "                                                 Review  Rating  \\\n",
       "0     The ambience was good, food was quite good . h...    5.00   \n",
       "1     Ambience is too good for a pleasant evening. S...    5.00   \n",
       "2     A must try.. great food great ambience. Thnx f...    5.00   \n",
       "3     Soumen das and Arun was a great guy. Only beca...    5.00   \n",
       "4     Food is good.we ordered Kodi drumsticks and ba...    5.00   \n",
       "...                                                 ...     ...   \n",
       "9995  Madhumathi Mahajan Well to start with nice cou...    3.00   \n",
       "9996  This place has never disappointed us.. The foo...    4.50   \n",
       "9997  Bad rating is mainly because of \"Chicken Bone ...    1.50   \n",
       "9998  I personally love and prefer Chinese Food. Had...    4.00   \n",
       "9999  Checked in here to try some delicious chinese ...    3.50   \n",
       "\n",
       "                          Metadata             Time  Pictures  \\\n",
       "0           1 Review , 2 Followers  5/25/2019 15:54         0   \n",
       "1          3 Reviews , 2 Followers  5/25/2019 14:20         0   \n",
       "2          2 Reviews , 3 Followers  5/24/2019 22:54         0   \n",
       "3            1 Review , 1 Follower  5/24/2019 22:11         0   \n",
       "4          3 Reviews , 2 Followers  5/24/2019 21:37         0   \n",
       "...                            ...              ...       ...   \n",
       "9995     53 Reviews , 54 Followers    6/5/2016 0:08         0   \n",
       "9996      2 Reviews , 53 Followers   6/4/2016 22:01         0   \n",
       "9997    65 Reviews , 423 Followers   6/3/2016 10:37         3   \n",
       "9998    13 Reviews , 144 Followers  5/31/2016 17:22         0   \n",
       "9999  472 Reviews , 1302 Followers  5/31/2016 16:41         6   \n",
       "\n",
       "      Reviewer_Total_Review  Reviewer_Followers  \n",
       "0                      1.00                2.00  \n",
       "1                      3.00                2.00  \n",
       "2                      2.00                3.00  \n",
       "3                      1.00                1.00  \n",
       "4                      3.00                2.00  \n",
       "...                     ...                 ...  \n",
       "9995                  53.00               54.00  \n",
       "9996                   2.00               53.00  \n",
       "9997                  65.00              423.00  \n",
       "9998                  13.00              144.00  \n",
       "9999                 472.00             1302.00  \n",
       "\n",
       "[10000 rows x 9 columns]"
      ]
     },
     "execution_count": 63,
     "metadata": {},
     "output_type": "execute_result"
    }
   ],
   "source": [
    "review"
   ]
  },
  {
   "cell_type": "code",
   "execution_count": 64,
   "id": "03759602-286d-4550-bd63-cb7ee74530ca",
   "metadata": {},
   "outputs": [],
   "source": [
    "review['Time']=pd.to_datetime(review['Time'],errors='coerce')\n",
    "review['Review_Year'] = pd.DatetimeIndex(review['Time']).year\n",
    "review['Review_Month'] = pd.DatetimeIndex(review['Time']).month\n",
    "review['Review_Hour'] = pd.DatetimeIndex(review['Time']).hour"
   ]
  },
  {
   "cell_type": "code",
   "execution_count": 65,
   "id": "34cd5fe4-1817-4e93-8194-ac49ad977d5d",
   "metadata": {},
   "outputs": [
    {
     "data": {
      "text/html": [
       "<div>\n",
       "<style scoped>\n",
       "    .dataframe tbody tr th:only-of-type {\n",
       "        vertical-align: middle;\n",
       "    }\n",
       "\n",
       "    .dataframe tbody tr th {\n",
       "        vertical-align: top;\n",
       "    }\n",
       "\n",
       "    .dataframe thead th {\n",
       "        text-align: right;\n",
       "    }\n",
       "</style>\n",
       "<table border=\"1\" class=\"dataframe\">\n",
       "  <thead>\n",
       "    <tr style=\"text-align: right;\">\n",
       "      <th></th>\n",
       "      <th>Restaurant</th>\n",
       "      <th>Rating</th>\n",
       "      <th>Total_Review</th>\n",
       "    </tr>\n",
       "  </thead>\n",
       "  <tbody>\n",
       "    <tr>\n",
       "      <th>0</th>\n",
       "      <td>4.00</td>\n",
       "      <td>4.00</td>\n",
       "      <td>1</td>\n",
       "    </tr>\n",
       "    <tr>\n",
       "      <th>1</th>\n",
       "      <td>10 Downing Street</td>\n",
       "      <td>3.80</td>\n",
       "      <td>100</td>\n",
       "    </tr>\n",
       "    <tr>\n",
       "      <th>2</th>\n",
       "      <td>13 Dhaba</td>\n",
       "      <td>3.48</td>\n",
       "      <td>100</td>\n",
       "    </tr>\n",
       "    <tr>\n",
       "      <th>3</th>\n",
       "      <td>3B's - Buddies, Bar &amp; Barbecue</td>\n",
       "      <td>4.76</td>\n",
       "      <td>100</td>\n",
       "    </tr>\n",
       "    <tr>\n",
       "      <th>4</th>\n",
       "      <td>AB's - Absolute Barbecues</td>\n",
       "      <td>4.88</td>\n",
       "      <td>100</td>\n",
       "    </tr>\n",
       "    <tr>\n",
       "      <th>...</th>\n",
       "      <td>...</td>\n",
       "      <td>...</td>\n",
       "      <td>...</td>\n",
       "    </tr>\n",
       "    <tr>\n",
       "      <th>96</th>\n",
       "      <td>Urban Asia - Kitchen &amp; Bar</td>\n",
       "      <td>3.65</td>\n",
       "      <td>100</td>\n",
       "    </tr>\n",
       "    <tr>\n",
       "      <th>97</th>\n",
       "      <td>Yum Yum Tree - The Arabian Food Court</td>\n",
       "      <td>3.56</td>\n",
       "      <td>100</td>\n",
       "    </tr>\n",
       "    <tr>\n",
       "      <th>98</th>\n",
       "      <td>Zega - Sheraton Hyderabad Hotel</td>\n",
       "      <td>4.45</td>\n",
       "      <td>100</td>\n",
       "    </tr>\n",
       "    <tr>\n",
       "      <th>99</th>\n",
       "      <td>Zing's Northeast Kitchen</td>\n",
       "      <td>3.65</td>\n",
       "      <td>100</td>\n",
       "    </tr>\n",
       "    <tr>\n",
       "      <th>100</th>\n",
       "      <td>eat.fit</td>\n",
       "      <td>3.20</td>\n",
       "      <td>100</td>\n",
       "    </tr>\n",
       "  </tbody>\n",
       "</table>\n",
       "<p>101 rows × 3 columns</p>\n",
       "</div>"
      ],
      "text/plain": [
       "                                Restaurant  Rating  Total_Review\n",
       "0                                     4.00    4.00             1\n",
       "1                        10 Downing Street    3.80           100\n",
       "2                                 13 Dhaba    3.48           100\n",
       "3           3B's - Buddies, Bar & Barbecue    4.76           100\n",
       "4                AB's - Absolute Barbecues    4.88           100\n",
       "..                                     ...     ...           ...\n",
       "96              Urban Asia - Kitchen & Bar    3.65           100\n",
       "97   Yum Yum Tree - The Arabian Food Court    3.56           100\n",
       "98         Zega - Sheraton Hyderabad Hotel    4.45           100\n",
       "99                Zing's Northeast Kitchen    3.65           100\n",
       "100                                eat.fit    3.20           100\n",
       "\n",
       "[101 rows x 3 columns]"
      ]
     },
     "execution_count": 65,
     "metadata": {},
     "output_type": "execute_result"
    }
   ],
   "source": [
    "#Average engagement of restaurants\n",
    "avg_hotel_rating = review.groupby('Restaurant').agg({'Rating':'mean',\n",
    "        'Reviewer': 'count'}).reset_index().rename(columns = {'Reviewer': 'Total_Review'})\n",
    "avg_hotel_rating"
   ]
  },
  {
   "cell_type": "code",
   "execution_count": 66,
   "id": "03ec8f44-8866-4b73-ae59-fd57e28bbaf3",
   "metadata": {},
   "outputs": [
    {
     "data": {
      "text/html": [
       "<div>\n",
       "<style scoped>\n",
       "    .dataframe tbody tr th:only-of-type {\n",
       "        vertical-align: middle;\n",
       "    }\n",
       "\n",
       "    .dataframe tbody tr th {\n",
       "        vertical-align: top;\n",
       "    }\n",
       "\n",
       "    .dataframe thead th {\n",
       "        text-align: right;\n",
       "    }\n",
       "</style>\n",
       "<table border=\"1\" class=\"dataframe\">\n",
       "  <thead>\n",
       "    <tr style=\"text-align: right;\">\n",
       "      <th></th>\n",
       "      <th>Restaurant</th>\n",
       "      <th>Reviewer</th>\n",
       "      <th>Review</th>\n",
       "      <th>Rating</th>\n",
       "      <th>Metadata</th>\n",
       "      <th>Time</th>\n",
       "      <th>Pictures</th>\n",
       "      <th>Reviewer_Total_Review</th>\n",
       "      <th>Reviewer_Followers</th>\n",
       "      <th>Review_Year</th>\n",
       "      <th>Review_Month</th>\n",
       "      <th>Review_Hour</th>\n",
       "    </tr>\n",
       "  </thead>\n",
       "  <tbody>\n",
       "    <tr>\n",
       "      <th>7601</th>\n",
       "      <td>4.00</td>\n",
       "      <td>4.00</td>\n",
       "      <td>4.00</td>\n",
       "      <td>4.00</td>\n",
       "      <td>4.00</td>\n",
       "      <td>NaT</td>\n",
       "      <td>4</td>\n",
       "      <td>NaN</td>\n",
       "      <td>NaN</td>\n",
       "      <td>NaN</td>\n",
       "      <td>NaN</td>\n",
       "      <td>NaN</td>\n",
       "    </tr>\n",
       "  </tbody>\n",
       "</table>\n",
       "</div>"
      ],
      "text/plain": [
       "     Restaurant Reviewer Review  Rating Metadata Time  Pictures  \\\n",
       "7601       4.00     4.00   4.00    4.00     4.00  NaT         4   \n",
       "\n",
       "      Reviewer_Total_Review  Reviewer_Followers  Review_Year  Review_Month  \\\n",
       "7601                    NaN                 NaN          NaN           NaN   \n",
       "\n",
       "      Review_Hour  \n",
       "7601          NaN  "
      ]
     },
     "execution_count": 66,
     "metadata": {},
     "output_type": "execute_result"
    }
   ],
   "source": [
    "#usless data\n",
    "review[review['Restaurant'] == 4.0]"
   ]
  },
  {
   "cell_type": "code",
   "execution_count": 67,
   "id": "a02c706d-3cd9-4149-9f49-460140e82232",
   "metadata": {},
   "outputs": [
    {
     "data": {
      "text/plain": [
       "101"
      ]
     },
     "execution_count": 67,
     "metadata": {},
     "output_type": "execute_result"
    }
   ],
   "source": [
    "#checking hotel count as total hotel in restaurant data was 105\n",
    "review.Restaurant.nunique()"
   ]
  },
  {
   "cell_type": "code",
   "execution_count": 68,
   "id": "a569b120-429d-44ce-81df-41378d1f4d67",
   "metadata": {},
   "outputs": [
    {
     "data": {
      "text/plain": [
       "['IndiBlaze',\n",
       " 'Sweet Basket',\n",
       " 'Angaara Counts 3',\n",
       " 'Wich Please',\n",
       " 'Republic Of Noodles - Lemon Tree Hotel']"
      ]
     },
     "execution_count": 68,
     "metadata": {},
     "output_type": "execute_result"
    }
   ],
   "source": [
    "#finding hotel without review\n",
    "hotel_without_review = [name for name in hotel.Name.unique().tolist() \n",
    "       if name not in review.Restaurant.unique().tolist()]\n",
    "hotel_without_review"
   ]
  },
  {
   "cell_type": "code",
   "execution_count": 69,
   "id": "86eef5c4-98f9-48e6-b075-ce4da9cf5627",
   "metadata": {},
   "outputs": [
    {
     "data": {
      "text/html": [
       "<div>\n",
       "<style scoped>\n",
       "    .dataframe tbody tr th:only-of-type {\n",
       "        vertical-align: middle;\n",
       "    }\n",
       "\n",
       "    .dataframe tbody tr th {\n",
       "        vertical-align: top;\n",
       "    }\n",
       "\n",
       "    .dataframe thead th {\n",
       "        text-align: right;\n",
       "    }\n",
       "</style>\n",
       "<table border=\"1\" class=\"dataframe\">\n",
       "  <thead>\n",
       "    <tr style=\"text-align: right;\">\n",
       "      <th></th>\n",
       "      <th>Restaurant</th>\n",
       "      <th>Rating</th>\n",
       "      <th>Total_Review</th>\n",
       "    </tr>\n",
       "  </thead>\n",
       "  <tbody>\n",
       "    <tr>\n",
       "      <th>4</th>\n",
       "      <td>AB's - Absolute Barbecues</td>\n",
       "      <td>4.88</td>\n",
       "      <td>100</td>\n",
       "    </tr>\n",
       "    <tr>\n",
       "      <th>12</th>\n",
       "      <td>B-Dubs</td>\n",
       "      <td>4.81</td>\n",
       "      <td>100</td>\n",
       "    </tr>\n",
       "    <tr>\n",
       "      <th>3</th>\n",
       "      <td>3B's - Buddies, Bar &amp; Barbecue</td>\n",
       "      <td>4.76</td>\n",
       "      <td>100</td>\n",
       "    </tr>\n",
       "    <tr>\n",
       "      <th>68</th>\n",
       "      <td>Paradise</td>\n",
       "      <td>4.70</td>\n",
       "      <td>100</td>\n",
       "    </tr>\n",
       "    <tr>\n",
       "      <th>36</th>\n",
       "      <td>Flechazo</td>\n",
       "      <td>4.66</td>\n",
       "      <td>100</td>\n",
       "    </tr>\n",
       "  </tbody>\n",
       "</table>\n",
       "</div>"
      ],
      "text/plain": [
       "                        Restaurant  Rating  Total_Review\n",
       "4        AB's - Absolute Barbecues    4.88           100\n",
       "12                          B-Dubs    4.81           100\n",
       "3   3B's - Buddies, Bar & Barbecue    4.76           100\n",
       "68                        Paradise    4.70           100\n",
       "36                        Flechazo    4.66           100"
      ]
     },
     "execution_count": 69,
     "metadata": {},
     "output_type": "execute_result"
    }
   ],
   "source": [
    "#top 5 most engaging or rated restaurant\n",
    "avg_hotel_rating.sort_values('Rating', ascending = False)[:5]"
   ]
  },
  {
   "cell_type": "code",
   "execution_count": 70,
   "id": "01086e52-986a-4ee9-89c5-97e8df12124e",
   "metadata": {},
   "outputs": [
    {
     "data": {
      "text/html": [
       "<div>\n",
       "<style scoped>\n",
       "    .dataframe tbody tr th:only-of-type {\n",
       "        vertical-align: middle;\n",
       "    }\n",
       "\n",
       "    .dataframe tbody tr th {\n",
       "        vertical-align: top;\n",
       "    }\n",
       "\n",
       "    .dataframe thead th {\n",
       "        text-align: right;\n",
       "    }\n",
       "</style>\n",
       "<table border=\"1\" class=\"dataframe\">\n",
       "  <thead>\n",
       "    <tr style=\"text-align: right;\">\n",
       "      <th></th>\n",
       "      <th>Restaurant</th>\n",
       "      <th>Rating</th>\n",
       "      <th>Total_Review</th>\n",
       "    </tr>\n",
       "  </thead>\n",
       "  <tbody>\n",
       "    <tr>\n",
       "      <th>42</th>\n",
       "      <td>Hotel Zara Hi-Fi</td>\n",
       "      <td>2.40</td>\n",
       "      <td>100</td>\n",
       "    </tr>\n",
       "    <tr>\n",
       "      <th>11</th>\n",
       "      <td>Asian Meal Box</td>\n",
       "      <td>2.58</td>\n",
       "      <td>100</td>\n",
       "    </tr>\n",
       "    <tr>\n",
       "      <th>67</th>\n",
       "      <td>Pakwaan Grand</td>\n",
       "      <td>2.71</td>\n",
       "      <td>100</td>\n",
       "    </tr>\n",
       "    <tr>\n",
       "      <th>58</th>\n",
       "      <td>Mathura Vilas</td>\n",
       "      <td>2.82</td>\n",
       "      <td>100</td>\n",
       "    </tr>\n",
       "    <tr>\n",
       "      <th>15</th>\n",
       "      <td>Behrouz Biryani</td>\n",
       "      <td>2.83</td>\n",
       "      <td>100</td>\n",
       "    </tr>\n",
       "  </tbody>\n",
       "</table>\n",
       "</div>"
      ],
      "text/plain": [
       "          Restaurant  Rating  Total_Review\n",
       "42  Hotel Zara Hi-Fi    2.40           100\n",
       "11    Asian Meal Box    2.58           100\n",
       "67     Pakwaan Grand    2.71           100\n",
       "58     Mathura Vilas    2.82           100\n",
       "15   Behrouz Biryani    2.83           100"
      ]
     },
     "execution_count": 70,
     "metadata": {},
     "output_type": "execute_result"
    }
   ],
   "source": [
    "#top 5 lowest rated restaurant\n",
    "avg_hotel_rating.sort_values('Rating', ascending = True)[:5]"
   ]
  },
  {
   "cell_type": "code",
   "execution_count": 71,
   "id": "d570d5ea-e4f7-47c1-a824-9b7f543d1f65",
   "metadata": {},
   "outputs": [
    {
     "data": {
      "text/html": [
       "<div>\n",
       "<style scoped>\n",
       "    .dataframe tbody tr th:only-of-type {\n",
       "        vertical-align: middle;\n",
       "    }\n",
       "\n",
       "    .dataframe tbody tr th {\n",
       "        vertical-align: top;\n",
       "    }\n",
       "\n",
       "    .dataframe thead th {\n",
       "        text-align: right;\n",
       "    }\n",
       "</style>\n",
       "<table border=\"1\" class=\"dataframe\">\n",
       "  <thead>\n",
       "    <tr style=\"text-align: right;\">\n",
       "      <th></th>\n",
       "      <th>Reviewer</th>\n",
       "      <th>Reviewer_Total_Review</th>\n",
       "      <th>Reviewer_Followers</th>\n",
       "      <th>Average_Rating_Given</th>\n",
       "    </tr>\n",
       "  </thead>\n",
       "  <tbody>\n",
       "    <tr>\n",
       "      <th>5464</th>\n",
       "      <td>Satwinder Singh</td>\n",
       "      <td>186.00</td>\n",
       "      <td>13410.00</td>\n",
       "      <td>3.67</td>\n",
       "    </tr>\n",
       "    <tr>\n",
       "      <th>1702</th>\n",
       "      <td>Eat_vth_me</td>\n",
       "      <td>60.00</td>\n",
       "      <td>13320.00</td>\n",
       "      <td>5.00</td>\n",
       "    </tr>\n",
       "    <tr>\n",
       "      <th>5236</th>\n",
       "      <td>Samar Sardar</td>\n",
       "      <td>8.00</td>\n",
       "      <td>11329.00</td>\n",
       "      <td>3.50</td>\n",
       "    </tr>\n",
       "    <tr>\n",
       "      <th>1788</th>\n",
       "      <td>Foodies Hyderabad</td>\n",
       "      <td>31.00</td>\n",
       "      <td>9494.00</td>\n",
       "      <td>4.50</td>\n",
       "    </tr>\n",
       "    <tr>\n",
       "      <th>6230</th>\n",
       "      <td>Srinivas</td>\n",
       "      <td>34.00</td>\n",
       "      <td>7628.00</td>\n",
       "      <td>3.71</td>\n",
       "    </tr>\n",
       "  </tbody>\n",
       "</table>\n",
       "</div>"
      ],
      "text/plain": [
       "               Reviewer  Reviewer_Total_Review  Reviewer_Followers  \\\n",
       "5464    Satwinder Singh                 186.00            13410.00   \n",
       "1702         Eat_vth_me                  60.00            13320.00   \n",
       "5236       Samar Sardar                   8.00            11329.00   \n",
       "1788  Foodies Hyderabad                  31.00             9494.00   \n",
       "6230           Srinivas                  34.00             7628.00   \n",
       "\n",
       "      Average_Rating_Given  \n",
       "5464                  3.67  \n",
       "1702                  5.00  \n",
       "5236                  3.50  \n",
       "1788                  4.50  \n",
       "6230                  3.71  "
      ]
     },
     "execution_count": 71,
     "metadata": {},
     "output_type": "execute_result"
    }
   ],
   "source": [
    "#Finding the most followed critic\n",
    "most_followed_reviewer = review.groupby('Reviewer').agg({'Reviewer_Total_Review':'max',\n",
    "      'Reviewer_Followers':'max', 'Rating':'mean'}).reset_index().rename(columns = {\n",
    "          'Rating':'Average_Rating_Given'}).sort_values('Reviewer_Followers', ascending = False)\n",
    "most_followed_reviewer[:5]"
   ]
  },
  {
   "cell_type": "code",
   "execution_count": 72,
   "id": "a95a5d5e-12eb-4b6e-9fbf-7385c875f7e6",
   "metadata": {},
   "outputs": [
    {
     "data": {
      "text/html": [
       "<div>\n",
       "<style scoped>\n",
       "    .dataframe tbody tr th:only-of-type {\n",
       "        vertical-align: middle;\n",
       "    }\n",
       "\n",
       "    .dataframe tbody tr th {\n",
       "        vertical-align: top;\n",
       "    }\n",
       "\n",
       "    .dataframe thead th {\n",
       "        text-align: right;\n",
       "    }\n",
       "</style>\n",
       "<table border=\"1\" class=\"dataframe\">\n",
       "  <thead>\n",
       "    <tr style=\"text-align: right;\">\n",
       "      <th></th>\n",
       "      <th>Review_Year</th>\n",
       "      <th>Restaurant</th>\n",
       "      <th>Count</th>\n",
       "    </tr>\n",
       "  </thead>\n",
       "  <tbody>\n",
       "    <tr>\n",
       "      <th>0</th>\n",
       "      <td>2016.00</td>\n",
       "      <td>[Labonel, Labonel, Labonel, Labonel, Labonel, ...</td>\n",
       "      <td>43</td>\n",
       "    </tr>\n",
       "    <tr>\n",
       "      <th>1</th>\n",
       "      <td>2017.00</td>\n",
       "      <td>[KS Bakers, KS Bakers, KS Bakers, KS Bakers, K...</td>\n",
       "      <td>213</td>\n",
       "    </tr>\n",
       "    <tr>\n",
       "      <th>2</th>\n",
       "      <td>2018.00</td>\n",
       "      <td>[Shah Ghouse Spl Shawarma, Shah Ghouse Spl Sha...</td>\n",
       "      <td>4903</td>\n",
       "    </tr>\n",
       "    <tr>\n",
       "      <th>3</th>\n",
       "      <td>2019.00</td>\n",
       "      <td>[Beyond Flavours, Beyond Flavours, Beyond Flav...</td>\n",
       "      <td>4802</td>\n",
       "    </tr>\n",
       "  </tbody>\n",
       "</table>\n",
       "</div>"
      ],
      "text/plain": [
       "   Review_Year                                         Restaurant  Count\n",
       "0      2016.00  [Labonel, Labonel, Labonel, Labonel, Labonel, ...     43\n",
       "1      2017.00  [KS Bakers, KS Bakers, KS Bakers, KS Bakers, K...    213\n",
       "2      2018.00  [Shah Ghouse Spl Shawarma, Shah Ghouse Spl Sha...   4903\n",
       "3      2019.00  [Beyond Flavours, Beyond Flavours, Beyond Flav...   4802"
      ]
     },
     "execution_count": 72,
     "metadata": {},
     "output_type": "execute_result"
    }
   ],
   "source": [
    "#finding which year show maximum engagement\n",
    "hotel_year = review.groupby('Review_Year')['Restaurant'].apply(lambda x: x.tolist()).reset_index()\n",
    "hotel_year['Count']= hotel_year['Restaurant'].apply(lambda x: len(x))\n",
    "hotel_year"
   ]
  },
  {
   "cell_type": "code",
   "execution_count": 73,
   "id": "62f84aa2-1882-4692-a7fb-61acc69ded7b",
   "metadata": {},
   "outputs": [
    {
     "data": {
      "text/plain": [
       "(9999, 17)"
      ]
     },
     "execution_count": 73,
     "metadata": {},
     "output_type": "execute_result"
    }
   ],
   "source": [
    "#merging both data frame\n",
    "hotel = hotel.rename(columns = {'Name':'Restaurant'})\n",
    "merged = hotel.merge(review, on = 'Restaurant')\n",
    "merged.shape"
   ]
  },
  {
   "cell_type": "code",
   "execution_count": 74,
   "id": "131949f0-a049-4f06-a1f9-c6245aca28fb",
   "metadata": {},
   "outputs": [],
   "source": [
    "#Price point of restaurants\n",
    "price_point = merged.groupby('Restaurant').agg({'Rating':'mean',\n",
    "        'Cost': 'mean'}).reset_index().rename(columns = {'Cost': 'Price_Point'})\n"
   ]
  },
  {
   "cell_type": "code",
   "execution_count": 75,
   "id": "0ad839dc-3607-41a4-b493-6944f188d6a3",
   "metadata": {},
   "outputs": [
    {
     "data": {
      "text/html": [
       "<div>\n",
       "<style scoped>\n",
       "    .dataframe tbody tr th:only-of-type {\n",
       "        vertical-align: middle;\n",
       "    }\n",
       "\n",
       "    .dataframe tbody tr th {\n",
       "        vertical-align: top;\n",
       "    }\n",
       "\n",
       "    .dataframe thead th {\n",
       "        text-align: right;\n",
       "    }\n",
       "</style>\n",
       "<table border=\"1\" class=\"dataframe\">\n",
       "  <thead>\n",
       "    <tr style=\"text-align: right;\">\n",
       "      <th></th>\n",
       "      <th>Restaurant</th>\n",
       "      <th>Rating</th>\n",
       "      <th>Price_Point</th>\n",
       "    </tr>\n",
       "  </thead>\n",
       "  <tbody>\n",
       "    <tr>\n",
       "      <th>3</th>\n",
       "      <td>AB's - Absolute Barbecues</td>\n",
       "      <td>4.88</td>\n",
       "      <td>1500.00</td>\n",
       "    </tr>\n",
       "    <tr>\n",
       "      <th>11</th>\n",
       "      <td>B-Dubs</td>\n",
       "      <td>4.81</td>\n",
       "      <td>1600.00</td>\n",
       "    </tr>\n",
       "    <tr>\n",
       "      <th>2</th>\n",
       "      <td>3B's - Buddies, Bar &amp; Barbecue</td>\n",
       "      <td>4.76</td>\n",
       "      <td>1100.00</td>\n",
       "    </tr>\n",
       "    <tr>\n",
       "      <th>67</th>\n",
       "      <td>Paradise</td>\n",
       "      <td>4.70</td>\n",
       "      <td>800.00</td>\n",
       "    </tr>\n",
       "    <tr>\n",
       "      <th>35</th>\n",
       "      <td>Flechazo</td>\n",
       "      <td>4.66</td>\n",
       "      <td>1300.00</td>\n",
       "    </tr>\n",
       "  </tbody>\n",
       "</table>\n",
       "</div>"
      ],
      "text/plain": [
       "                        Restaurant  Rating  Price_Point\n",
       "3        AB's - Absolute Barbecues    4.88      1500.00\n",
       "11                          B-Dubs    4.81      1600.00\n",
       "2   3B's - Buddies, Bar & Barbecue    4.76      1100.00\n",
       "67                        Paradise    4.70       800.00\n",
       "35                        Flechazo    4.66      1300.00"
      ]
     },
     "execution_count": 75,
     "metadata": {},
     "output_type": "execute_result"
    }
   ],
   "source": [
    "#price point for high rated restaurants\n",
    "price_point.sort_values('Rating',ascending = False)[:5]"
   ]
  },
  {
   "cell_type": "code",
   "execution_count": 76,
   "id": "bf17899b-3205-4cf4-afc6-eb52f9f0313a",
   "metadata": {},
   "outputs": [
    {
     "data": {
      "text/html": [
       "<div>\n",
       "<style scoped>\n",
       "    .dataframe tbody tr th:only-of-type {\n",
       "        vertical-align: middle;\n",
       "    }\n",
       "\n",
       "    .dataframe tbody tr th {\n",
       "        vertical-align: top;\n",
       "    }\n",
       "\n",
       "    .dataframe thead th {\n",
       "        text-align: right;\n",
       "    }\n",
       "</style>\n",
       "<table border=\"1\" class=\"dataframe\">\n",
       "  <thead>\n",
       "    <tr style=\"text-align: right;\">\n",
       "      <th></th>\n",
       "      <th>Restaurant</th>\n",
       "      <th>Rating</th>\n",
       "      <th>Price_Point</th>\n",
       "    </tr>\n",
       "  </thead>\n",
       "  <tbody>\n",
       "    <tr>\n",
       "      <th>41</th>\n",
       "      <td>Hotel Zara Hi-Fi</td>\n",
       "      <td>2.40</td>\n",
       "      <td>400.00</td>\n",
       "    </tr>\n",
       "    <tr>\n",
       "      <th>10</th>\n",
       "      <td>Asian Meal Box</td>\n",
       "      <td>2.58</td>\n",
       "      <td>200.00</td>\n",
       "    </tr>\n",
       "    <tr>\n",
       "      <th>66</th>\n",
       "      <td>Pakwaan Grand</td>\n",
       "      <td>2.71</td>\n",
       "      <td>400.00</td>\n",
       "    </tr>\n",
       "    <tr>\n",
       "      <th>57</th>\n",
       "      <td>Mathura Vilas</td>\n",
       "      <td>2.82</td>\n",
       "      <td>500.00</td>\n",
       "    </tr>\n",
       "    <tr>\n",
       "      <th>14</th>\n",
       "      <td>Behrouz Biryani</td>\n",
       "      <td>2.83</td>\n",
       "      <td>600.00</td>\n",
       "    </tr>\n",
       "  </tbody>\n",
       "</table>\n",
       "</div>"
      ],
      "text/plain": [
       "          Restaurant  Rating  Price_Point\n",
       "41  Hotel Zara Hi-Fi    2.40       400.00\n",
       "10    Asian Meal Box    2.58       200.00\n",
       "66     Pakwaan Grand    2.71       400.00\n",
       "57     Mathura Vilas    2.82       500.00\n",
       "14   Behrouz Biryani    2.83       600.00"
      ]
     },
     "execution_count": 76,
     "metadata": {},
     "output_type": "execute_result"
    }
   ],
   "source": [
    "#price point for lowest rated restaurants\n",
    "price_point.sort_values('Rating',ascending = True)[:5]"
   ]
  },
  {
   "cell_type": "code",
   "execution_count": 77,
   "id": "2e7299b5-8d33-4d2e-b9a1-2c992333ced6",
   "metadata": {},
   "outputs": [
    {
     "data": {
      "text/html": [
       "<div>\n",
       "<style scoped>\n",
       "    .dataframe tbody tr th:only-of-type {\n",
       "        vertical-align: middle;\n",
       "    }\n",
       "\n",
       "    .dataframe tbody tr th {\n",
       "        vertical-align: top;\n",
       "    }\n",
       "\n",
       "    .dataframe thead th {\n",
       "        text-align: right;\n",
       "    }\n",
       "</style>\n",
       "<table border=\"1\" class=\"dataframe\">\n",
       "  <thead>\n",
       "    <tr style=\"text-align: right;\">\n",
       "      <th></th>\n",
       "      <th>Rating_Count</th>\n",
       "    </tr>\n",
       "    <tr>\n",
       "      <th>Reviewer</th>\n",
       "      <th></th>\n",
       "    </tr>\n",
       "  </thead>\n",
       "  <tbody>\n",
       "    <tr>\n",
       "      <th>Parijat Ray</th>\n",
       "      <td>13</td>\n",
       "    </tr>\n",
       "    <tr>\n",
       "      <th>Ankita</th>\n",
       "      <td>13</td>\n",
       "    </tr>\n",
       "    <tr>\n",
       "      <th>Kiran</th>\n",
       "      <td>12</td>\n",
       "    </tr>\n",
       "    <tr>\n",
       "      <th>Vedant Killa</th>\n",
       "      <td>11</td>\n",
       "    </tr>\n",
       "    <tr>\n",
       "      <th>Jay Mehta</th>\n",
       "      <td>11</td>\n",
       "    </tr>\n",
       "  </tbody>\n",
       "</table>\n",
       "</div>"
      ],
      "text/plain": [
       "              Rating_Count\n",
       "Reviewer                  \n",
       "Parijat Ray             13\n",
       "Ankita                  13\n",
       "Kiran                   12\n",
       "Vedant Killa            11\n",
       "Jay Mehta               11"
      ]
     },
     "execution_count": 77,
     "metadata": {},
     "output_type": "execute_result"
    }
   ],
   "source": [
    "#rating count by reviewer\n",
    "rating_count_df = pd.DataFrame(review.groupby('Reviewer').size(), columns=[\n",
    "                                                                \"Rating_Count\"])\n",
    "rating_count_df.sort_values('Rating_Count', ascending = False)[:5]"
   ]
  },
  {
   "cell_type": "markdown",
   "id": "fc83731b-cfb1-4191-866f-7edfa2b020c0",
   "metadata": {},
   "source": [
    "### What all manipulations have you done and insights you found?"
   ]
  },
  {
   "cell_type": "markdown",
   "id": "292dd05e-8349-429a-b198-59cb772c6bbc",
   "metadata": {},
   "source": [
    "Firstly, I started with changing data types for cost and rating. In rating there was only one rating which was string or has value of like so I change it into median of the rating. This was done to make data consistent.\n",
    "\n",
    "Restaurant data : In this dataset I first figured out 5 costlier restaurant in which Collage - Hyatt Hyderabad Gachibowli\thas maximum price of 2800 and then found the lowest which is Amul\t with price of 150. Then I found how many hotel share same price i.e., 13 hotel share 500 price. North indian cuisine with great buffet tags is mostly used in hotels.\n",
    "\n",
    "Review data : In this dataset I found famous or restaurant that show maximum engagement. Followed by that I found most followed critic which was Satwinder Singh who posted total of 186 reviews and had followers of\t13410 who gives and average of 3.67 rating for each order he makes. Lastly I also found in year 2018 4903 hotels got reviews. \n",
    "\n",
    "Then I merged the two dataset together to figure out the price point for the restaurant, top rated restaurant AB's - Absolute Barbecues has a price point of 1500 and the low rated Hotel Zara Hi-Fi has price point of 400.\n",
    "\n",
    "In order to exactly understand why even with price point of 1500 these hotel has maximum number of rating and sentiment of those rating need to extract words from the text and do  futher analysis of the review and then followed by forming clusters so that one can get recommendation about top quality restaurants."
   ]
  },
  {
   "cell_type": "markdown",
   "id": "221085d7-1b58-4011-b674-d8c7c8681def",
   "metadata": {},
   "source": [
    "## ***4. Data Vizualization, Storytelling & Experimenting with charts : Understand the relationships between variables***"
   ]
  },
  {
   "cell_type": "markdown",
   "id": "4cb2e39e-056f-452d-ae7b-cacd061d7a5c",
   "metadata": {},
   "source": [
    "#### Chart - 1 Distplot for Distribution"
   ]
  },
  {
   "cell_type": "code",
   "execution_count": 82,
   "id": "3039be36-5811-4c50-a543-5963f6cbda3e",
   "metadata": {},
   "outputs": [],
   "source": [
    "# Chart - 1 visualization code\n",
    "plt.figure(figsize = (18,8));\n",
    "for i,col in enumerate(['Cost','Rating','Review_Year']) :\n",
    "    # plt.figure(figsize = (8,5));\n",
    "    plt.subplot(2,2,i+1);\n",
    "    sns.distplot(merged[col], color = '#055E85', fit = norm);\n",
    "    feature = merged[col]\n",
    "    plt.axvline(feature.mean(), color='#ff033e', linestyle='dashed', linewidth=3,label= 'mean');  #red\n",
    "    plt.axvline(feature.median(), color='#A020F0', linestyle='dashed', linewidth=3,label='median'); #cyan\n",
    "    plt.legend(bbox_to_anchor = (1.0, 1), loc = 'upper left')\n",
    "    plt.title(f'{col.title()}');\n",
    "    plt.tight_layout();"
   ]
  },
  {
   "cell_type": "markdown",
   "id": "909e5f28-b71c-4874-8831-7553d525de7c",
   "metadata": {},
   "source": [
    "##### 1. Why did you pick the specific chart?"
   ]
  },
  {
   "cell_type": "markdown",
   "id": "cd4f530f-20ec-450f-a132-334bc5264549",
   "metadata": {},
   "source": [
    "Distplot is helpful in understanding the distribution of the feature."
   ]
  },
  {
   "cell_type": "markdown",
   "id": "0836dfe4-c630-4680-b4d7-349aeb9d0a5a",
   "metadata": {},
   "source": [
    "##### 2. What is/are the insight(s) found from the chart?"
   ]
  },
  {
   "cell_type": "markdown",
   "id": "78552b84-37f3-48c7-b9d1-2613cd7e920b",
   "metadata": {},
   "source": [
    "* All three are show skewness.\n",
    "* Maximum restaurant show price range for 500.\n",
    "* In 2018 number of reviews are more."
   ]
  },
  {
   "cell_type": "markdown",
   "id": "19443bb3-2730-44c2-928d-d7ac04d0d123",
   "metadata": {},
   "source": [
    "##### 3. Will the gained insights help creating a positive business impact? \n",
    "Are there any insights that lead to negative growth? Justify with specific reason."
   ]
  },
  {
   "cell_type": "markdown",
   "id": "501b53ae-303f-4f8e-88ba-b0429cbd87fc",
   "metadata": {},
   "source": [
    "Price always place important role in any business alongwith rating which show how much engagement are made for the product. \n",
    "\n",
    "But in this chart it is unable to figure any impact on business when plotted all alone."
   ]
  },
  {
   "cell_type": "markdown",
   "id": "9687553d-d53f-4137-be35-845ddd71e40d",
   "metadata": {},
   "source": [
    "###Price Point and Maximum Engagement"
   ]
  },
  {
   "cell_type": "markdown",
   "id": "06b9878d-b604-425c-b288-eeedca7d996f",
   "metadata": {},
   "source": [
    "#### Chart - 2 Maximum Engagement and Lowest Engagement"
   ]
  },
  {
   "cell_type": "code",
   "execution_count": 91,
   "id": "b9511cdb-4622-4d47-8428-17b65ba8ae1a",
   "metadata": {},
   "outputs": [],
   "source": [
    "#geting the top 10 hotel that show maximum engagement\n",
    "most_engaged_hotel = price_point.sort_values('Rating', ascending = False)"
   ]
  },
  {
   "cell_type": "code",
   "execution_count": 92,
   "id": "00fbc9e5-15d2-4b25-ad99-4a54061a322a",
   "metadata": {},
   "outputs": [
    {
     "data": {
      "image/png": "[encoded data removed]",
      "text/plain": [
       "<Figure size 640x480 with 1 Axes>"
      ]
     },
     "metadata": {},
     "output_type": "display_data"
    },
    {
     "data": {
      "image/png": "[encoded data removed]",
      "text/plain": [
       "<Figure size 1800x800 with 3 Axes>"
      ]
     },
     "metadata": {},
     "output_type": "display_data"
    }
   ],
   "source": [
    "# Chart - 2 visualization code for most liked\n",
    "sns.barplot(data = most_engaged_hotel[:10], x = 'Rating', y = 'Restaurant')\n",
    "plt.title('Most Engaged Restaurant')\n",
    "plt.show()"
   ]
  },
  {
   "cell_type": "code",
   "execution_count": 93,
   "id": "b7f98196-f6ff-4c27-8351-ce85bac1f0f0",
   "metadata": {},
   "outputs": [
    {
     "data": {
      "image/png": "[encoded data removed]",
      "text/plain": [
       "<Figure size 640x480 with 1 Axes>"
      ]
     },
     "metadata": {},
     "output_type": "display_data"
    }
   ],
   "source": [
    "#chart for less liked hotels\n",
    "sns.barplot(data = most_engaged_hotel[-10:], x = 'Rating', y = 'Restaurant')\n",
    "plt.title('Less Engaged Restaurant')\n",
    "plt.show()"
   ]
  },
  {
   "cell_type": "markdown",
   "id": "c9c7ac22-f889-4600-8175-c4b018dee76f",
   "metadata": {},
   "source": [
    "##### 1. Why did you pick the specific chart?"
   ]
  },
  {
   "cell_type": "markdown",
   "id": "008d1cf8-dedd-4471-9935-8ec7ba343215",
   "metadata": {},
   "source": [
    "I picked barplot for the above graph because it show frequency level for different category."
   ]
  },
  {
   "cell_type": "markdown",
   "id": "95e884e7-a4ff-4f0c-ae35-4de28a09cdca",
   "metadata": {},
   "source": [
    "##### 2. What is/are the insight(s) found from the chart?"
   ]
  },
  {
   "cell_type": "markdown",
   "id": "90fedacc-aa98-4efd-98cb-90627f1f427b",
   "metadata": {},
   "source": [
    "AB's - Absolute Barbecues, show maximum engagement and retention as it has maximum number of rating on average and Hotel Zara Hi-Fi show lowest engagement as has lowest average rating."
   ]
  },
  {
   "cell_type": "markdown",
   "id": "aaa0490d-5e35-48a7-b952-27b746264a52",
   "metadata": {},
   "source": [
    "##### 3. Will the gained insights help creating a positive business impact? \n",
    "Are there any insights that lead to negative growth? Justify with specific reason."
   ]
  },
  {
   "cell_type": "markdown",
   "id": "77b2a759-e5cb-4289-b2d9-a4049b7340b9",
   "metadata": {},
   "source": [
    "Engagement and retention for any business is very much important as profit and scalability for any business depend upon retention of customers. Maximum retention means people prefer to use the same brand over others.\n",
    "\n",
    "Some restaurant show less rating which can show negative growth if not monitored why they recieve less order for example KFC is listed in low rated it is sure they have different outlet and their own outsourcing and lised here because of the popularity of the app and to increase their sale and demand but are not giving 100% dedication to the platform to generate revenue."
   ]
  },
  {
   "cell_type": "markdown",
   "id": "bf6ca53d-87bc-4c00-8fe0-9c250feb8b79",
   "metadata": {},
   "source": [
    "#### Chart - 3 Price Point for High Rated and Low Rated Hotels"
   ]
  },
  {
   "cell_type": "code",
   "execution_count": 101,
   "id": "e6589e37-1022-44cd-82fd-84ee95c5843b",
   "metadata": {},
   "outputs": [
    {
     "data": {
      "image/png": "[encoded data removed]",
      "text/plain": [
       "<Figure size 640x480 with 1 Axes>"
      ]
     },
     "metadata": {},
     "output_type": "display_data"
    }
   ],
   "source": [
    "# Chart - 3 visualization code for price point of high rated restaurant\n",
    "sns.barplot(data = most_engaged_hotel[:10], x = 'Price_Point', y = 'Restaurant')\n",
    "plt.title('Price Point for Top Rated Restaurant')\n",
    "plt.show()"
   ]
  },
  {
   "cell_type": "code",
   "execution_count": 102,
   "id": "fd39d42e-3699-4261-bfa0-ca6d79e48954",
   "metadata": {},
   "outputs": [
    {
     "data": {
      "image/png": "[encoded data removed]",
      "text/plain": [
       "<Figure size 640x480 with 2 Axes>"
      ]
     },
     "metadata": {},
     "output_type": "display_data"
    }
   ],
   "source": [
    "#visualization code for price point of low rated restaurant\n",
    "sns.barplot(data = most_engaged_hotel[-10:], x = 'Price_Point', \n",
    "            y = 'Restaurant',palette = 'hsv')\n",
    "plt.title('Price Point for Low Rated Restaurant', size = 15)\n",
    "# Setting the background color of the plot\n",
    "# using set_facecolor() method\n",
    "ax = plt.axes()\n",
    "ax.set_facecolor(\"black\")\n",
    "plt.show()"
   ]
  },
  {
   "cell_type": "markdown",
   "id": "ccb0e76b-eb26-4708-9e80-0d937bd2c5a7",
   "metadata": {},
   "source": [
    "##### 1. Why did you pick the specific chart?"
   ]
  },
  {
   "cell_type": "markdown",
   "id": "fc9b4d71-681a-4b12-8027-21a9ee653d7c",
   "metadata": {},
   "source": [
    "Here I choose barplot because bar plot is a good choice for plotting hotel name and price point as it is a simple and effective way to display the comparison of different categories (hotel names) and their corresponding values (price points) on the same chart.\n",
    "Also, it allow to have a sense of the price range of each hotel and how they compare to each other."
   ]
  },
  {
   "cell_type": "markdown",
   "id": "2e788c77-3dcc-49aa-89c0-98926b1b694b",
   "metadata": {},
   "source": [
    "##### 2. What is/are the insight(s) found from the chart?"
   ]
  },
  {
   "cell_type": "markdown",
   "id": "b50169a9-db50-4a85-9154-70f51ca1f07c",
   "metadata": {},
   "source": [
    "Price point for high rated hotel AB's= Absolute Barbecues is 1500 and price point for low rated restaurant Hotel Zara Hi-Fi is 400."
   ]
  },
  {
   "cell_type": "markdown",
   "id": "313ee34b-fb6b-40f7-a9bf-e485b4326d6f",
   "metadata": {},
   "source": [
    "##### 3. Will the gained insights help creating a positive business impact? \n",
    "Are there any insights that lead to negative growth? Justify with specific reason."
   ]
  },
  {
   "cell_type": "markdown",
   "id": "13d72616-263f-4ba1-86a6-de9556121555",
   "metadata": {},
   "source": [
    "Since it is customer centered business i.e., direct to consumer it is important to understand price point which makes this business more affordable for evryone, therefore it is important for business to crack the price point.\n",
    "\n",
    "Here most liked restaurant has a price point of 1500 which is even though a little high than average but as this business is all about food quality and taste it show maximum engagement which means it serve best quality of food, however deep dive on analysing review text can exactly give why this price point is prefered most.\n",
    "\n",
    "Some restaurant with lowest rating even with low price point is not making engagement, this may create a negative impact on business.\n",
    "\n",
    "However it can not be finalized that this hotel should unlisted as there may be chance of different cuisine they both serve and it also depend upon the locality they both serve, therefore based on that small promotional offers can also be given for low rated restaurant to increase sales."
   ]
  },
  {
   "cell_type": "markdown",
   "id": "2d165222-17dc-4f45-8e8c-3dcca4b97461",
   "metadata": {},
   "source": [
    "###Commoditized Cuisine"
   ]
  },
  {
   "cell_type": "markdown",
   "id": "8d03903e-ec08-4f7c-b7e7-464d471d4265",
   "metadata": {},
   "source": [
    "#### Chart - 4 Proportion of Cuisine Sold by Most Restaurant"
   ]
  },
  {
   "cell_type": "code",
   "execution_count": 111,
   "id": "cf2f4669-432f-4c6a-bdcf-3f07c47648a4",
   "metadata": {},
   "outputs": [],
   "source": [
    "#list of all cuisine\n",
    "cuisine_list = cuisine_df.sort_values('Number of Restaurants', ascending = False)['Cuisine'].tolist()[:5]"
   ]
  },
  {
   "cell_type": "code",
   "execution_count": 112,
   "id": "b8366035-5f92-45f3-976b-344190f2b69a",
   "metadata": {},
   "outputs": [
    {
     "data": {
      "image/png": "[encoded data removed]",
      "text/plain": [
       "<Figure size 640x480 with 1 Axes>"
      ]
     },
     "metadata": {},
     "output_type": "display_data"
    }
   ],
   "source": [
    "# Chart - 4 visualization code pie chart for top 5 mpst selling cuisine\n",
    "data = cuisine_df.sort_values('Number of Restaurants', ascending = False)[\n",
    "    'Number of Restaurants'].tolist()[:5]\n",
    "labels = cuisine_list\n",
    "\n",
    "#define Seaborn color palette to use\n",
    "colors = sns.color_palette('Paired')[4:9]\n",
    "\n",
    "#create pie chart\n",
    "plt.pie(data, labels = labels, colors = colors, autopct='%.0f%%')\n",
    "plt.title('Top 5 Most Selling Cuisine', size =22, color= 'blue')\n",
    "plt.show()"
   ]
  },
  {
   "cell_type": "code",
   "execution_count": 113,
   "id": "ed2e8f0a-f9cf-413c-bf85-941ccabcda7f",
   "metadata": {},
   "outputs": [],
   "source": [
    "#wordcloud for Cuisine\n",
    "# storind all cuisine in form of text\n",
    "plt.figure(figsize=(15,8))\n",
    "text = \" \".join(name for name in cuisine_df.Cuisine )\n",
    "\n",
    "\n",
    "# Creating word_cloud with text as argument in .generate() method\n",
    "\n",
    "word_cloud = WordCloud(width = 2000, height = 2000,collocations = False,\n",
    "                       colormap='rainbow',background_color = 'black').generate(text)\n",
    "\n",
    "# Display the generated Word Cloud\n",
    "\n",
    "plt.imshow(word_cloud, interpolation='bilinear');\n",
    "\n",
    "plt.axis(\"off\");"
   ]
  },
  {
   "cell_type": "markdown",
   "id": "013f6580-f95b-4720-993c-f8834e1b46e2",
   "metadata": {},
   "source": [
    "\n",
    "---\n",
    "Aternate way to do the same tast\n"
   ]
  },
  {
   "cell_type": "code",
   "execution_count": 180,
   "id": "3e9b997f-8c1f-4c7a-a71e-96d53abac6d2",
   "metadata": {},
   "outputs": [
    {
     "data": {
      "text/html": [
       "<div>\n",
       "<style scoped>\n",
       "    .dataframe tbody tr th:only-of-type {\n",
       "        vertical-align: middle;\n",
       "    }\n",
       "\n",
       "    .dataframe tbody tr th {\n",
       "        vertical-align: top;\n",
       "    }\n",
       "\n",
       "    .dataframe thead th {\n",
       "        text-align: right;\n",
       "    }\n",
       "</style>\n",
       "<table border=\"1\" class=\"dataframe\">\n",
       "  <thead>\n",
       "    <tr style=\"text-align: right;\">\n",
       "      <th></th>\n",
       "      <th>Cuisines</th>\n",
       "      <th>Restaurant</th>\n",
       "      <th>Restaurant_Count</th>\n",
       "    </tr>\n",
       "  </thead>\n",
       "  <tbody>\n",
       "    <tr>\n",
       "      <th>16</th>\n",
       "      <td>Goan</td>\n",
       "      <td>[The Fisherman's Wharf]</td>\n",
       "      <td>1</td>\n",
       "    </tr>\n",
       "    <tr>\n",
       "      <th>17</th>\n",
       "      <td>Healthy Food</td>\n",
       "      <td>[eat.fit]</td>\n",
       "      <td>1</td>\n",
       "    </tr>\n",
       "    <tr>\n",
       "      <th>20</th>\n",
       "      <td>Indonesian</td>\n",
       "      <td>[Shanghai Chef 2]</td>\n",
       "      <td>1</td>\n",
       "    </tr>\n",
       "    <tr>\n",
       "      <th>23</th>\n",
       "      <td>Juices</td>\n",
       "      <td>[Pista House]</td>\n",
       "      <td>1</td>\n",
       "    </tr>\n",
       "    <tr>\n",
       "      <th>25</th>\n",
       "      <td>Lebanese</td>\n",
       "      <td>[Shah Ghouse Spl Shawarma]</td>\n",
       "      <td>1</td>\n",
       "    </tr>\n",
       "    <tr>\n",
       "      <th>26</th>\n",
       "      <td>Malaysian</td>\n",
       "      <td>[Republic Of Noodles - Lemon Tree Hotel]</td>\n",
       "      <td>1</td>\n",
       "    </tr>\n",
       "    <tr>\n",
       "      <th>28</th>\n",
       "      <td>Mexican</td>\n",
       "      <td>[Mustang Terrace Lounge]</td>\n",
       "      <td>1</td>\n",
       "    </tr>\n",
       "    <tr>\n",
       "      <th>29</th>\n",
       "      <td>Mithai</td>\n",
       "      <td>[Sweet Basket]</td>\n",
       "      <td>1</td>\n",
       "    </tr>\n",
       "    <tr>\n",
       "      <th>33</th>\n",
       "      <td>North Eastern</td>\n",
       "      <td>[Zing's Northeast Kitchen]</td>\n",
       "      <td>1</td>\n",
       "    </tr>\n",
       "    <tr>\n",
       "      <th>35</th>\n",
       "      <td>Pizza</td>\n",
       "      <td>[Domino's Pizza]</td>\n",
       "      <td>1</td>\n",
       "    </tr>\n",
       "    <tr>\n",
       "      <th>39</th>\n",
       "      <td>Spanish</td>\n",
       "      <td>[Frio Bistro]</td>\n",
       "      <td>1</td>\n",
       "    </tr>\n",
       "    <tr>\n",
       "      <th>43</th>\n",
       "      <td>Wraps</td>\n",
       "      <td>[The Foodie Monster Kitchen]</td>\n",
       "      <td>1</td>\n",
       "    </tr>\n",
       "  </tbody>\n",
       "</table>\n",
       "</div>"
      ],
      "text/plain": [
       "         Cuisines                                Restaurant  Restaurant_Count\n",
       "16           Goan                   [The Fisherman's Wharf]                 1\n",
       "17   Healthy Food                                 [eat.fit]                 1\n",
       "20     Indonesian                         [Shanghai Chef 2]                 1\n",
       "23         Juices                             [Pista House]                 1\n",
       "25       Lebanese                [Shah Ghouse Spl Shawarma]                 1\n",
       "26      Malaysian  [Republic Of Noodles - Lemon Tree Hotel]                 1\n",
       "28        Mexican                  [Mustang Terrace Lounge]                 1\n",
       "29         Mithai                            [Sweet Basket]                 1\n",
       "33  North Eastern                [Zing's Northeast Kitchen]                 1\n",
       "35          Pizza                          [Domino's Pizza]                 1\n",
       "39        Spanish                             [Frio Bistro]                 1\n",
       "43          Wraps              [The Foodie Monster Kitchen]                 1"
      ]
     },
     "execution_count": 180,
     "metadata": {},
     "output_type": "execute_result"
    }
   ],
   "source": [
    "# #creating variable to store restaurant and cuisine from hotel dataset\n",
    "# cproduct = hotel[['Restaurant','Cost',\t'Cuisines']].copy()\n",
    "# #splitting cuisines \n",
    "# cproduct['Cuisines'] = cproduct['Cuisines'].str.split(',')\n",
    "# #exploding the cuisine list from above to separate row\n",
    "# cproduct = cproduct.explode('Cuisines')\n",
    "# #removing trailing spaces\n",
    "# cproduct['Cuisines'] = cproduct['Cuisines'].apply(lambda x: x.strip())\n",
    "# #grouping cuisines and then making list of restaurants\n",
    "# cprod = cproduct.groupby('Cuisines')['Restaurant'].apply(lambda x: x.tolist()).reset_index()\n",
    "# # cproduct['Cuisines'].unique()\n",
    "# cprod['Restaurant_Count'] = cprod['Restaurant'].apply(lambda x: len(x))\n",
    "# cprod[cprod['Restaurant_Count']==1].sort_values('Restaurant_Count', ascending = False)"
   ]
  },
  {
   "cell_type": "markdown",
   "id": "1e655c9a-dd6f-482a-83db-6edb4b342a70",
   "metadata": {},
   "source": [
    "##### 1. Why did you pick the specific chart?"
   ]
  },
  {
   "cell_type": "markdown",
   "id": "ddedc3c3-e226-4255-baaa-56259dff5129",
   "metadata": {},
   "source": [
    "Here I choose to use pie chart because it show proportion of each quantity and used wordcloud because it show all text and highlight the most frequent words."
   ]
  },
  {
   "cell_type": "markdown",
   "id": "1d5ad662-4f4d-4d33-b69c-677351b10dc8",
   "metadata": {},
   "source": [
    "##### 2. What is/are the insight(s) found from the chart?"
   ]
  },
  {
   "cell_type": "markdown",
   "id": "942489a5-c2c8-4f52-8aad-012a2e8bbe63",
   "metadata": {},
   "source": [
    "Based on the above chart it is clear that most of the hotel sold North Indian food followed by chinese."
   ]
  },
  {
   "cell_type": "markdown",
   "id": "bf690a22-f958-463b-8cc1-7b16d8f1c40d",
   "metadata": {},
   "source": [
    "##### 3. Will the gained insights help creating a positive business impact? \n",
    "Are there any insights that lead to negative growth? Justify with specific reason."
   ]
  },
  {
   "cell_type": "markdown",
   "id": "7af48f5b-3572-4bf8-9459-e79e6c0ac1d9",
   "metadata": {},
   "source": [
    "Identifying the Commoditized Cuisine plays an important role as it helps in identifying the challenge or Competitive Advantage i.e., Knowing which cuisines are commoditized allows a restaurant or food business to differentiate themselves from their competitors by offering unique and non-commoditized options.  \n",
    "\n",
    "If a cuisine is commoditized, the prices for ingredients and labor for that cuisine may be higher than for non-commoditized cuisines. Identifying these commoditized cuisines can help a business to control costs by focusing on non-commoditized options or finding ways to lower the cost of commoditized items.\n",
    "\n",
    "Identifying commoditized cuisines can also provide insight into consumer preferences, which can be used to make informed decisions about menu offerings, pricing, and promotions.\n",
    "\n",
    "Plotting a pie chart of cuisine types can help to identify the most popular cuisine types among its customers. This information can be used to make strategic decisions about which cuisines to focus on promoting and expanding. For example, as the significant portion of customers are searching for north indian restaurants, Zomato could focus on adding more north indian restaurants to its platform and promoting them to customers.\n",
    "\n",
    "Similarly, a word cloud of cuisine can help Zomato identify the most frequently mentioned cuisine types in customer reviews. This can provide insight into which cuisines are most popular and well-regarded among customers, and which cuisines may need improvement.\n",
    "\n",
    "However, these types of charts do not provide all the information about the business, and can not be the only decision making factor. For example, a pie chart showing that a certain cuisine is popular does not tell us about the profitability of that cuisine or the competition in that category. The same goes for word cloud, it only shows us the frequency of the cuisine mentioned, it can not tell us if the mentions are positive or negative.\n",
    "\n",
    "Additionally, these charts do not provide information about the other factors that can impact the business such as market trends, consumer preferences, and economic conditions. Therefore, it's important for Zomato to consider other data and information when making strategic decisions."
   ]
  },
  {
   "cell_type": "code",
   "execution_count": null,
   "id": "f1be290f-6458-4e05-905c-ab637ddd6883",
   "metadata": {},
   "outputs": [],
   "source": []
  }
 ],
 "metadata": {
  "kernelspec": {
   "display_name": "Python 3 (ipykernel)",
   "language": "python",
   "name": "python3"
  },
  "language_info": {
   "codemirror_mode": {
    "name": "ipython",
    "version": 3
   },
   "file_extension": ".py",
   "mimetype": "text/x-python",
   "name": "python",
   "nbconvert_exporter": "python",
   "pygments_lexer": "ipython3",
   "version": "3.12.7"
  }
 },
 "nbformat": 4,
 "nbformat_minor": 5
}
